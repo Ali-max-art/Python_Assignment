{
 "cells": [
  {
   "cell_type": "markdown",
   "id": "2bdd1ddf-a7ba-4936-8de6-a0ba7bfcdc9b",
   "metadata": {},
   "source": [
    "#  Assignment: Data Structures in Python"
   ]
  },
  {
   "cell_type": "code",
   "execution_count": 7,
   "id": "70377f47-aae6-47d7-b11e-d64fd7d22fb5",
   "metadata": {},
   "outputs": [
    {
     "data": {
      "text/plain": [
       "'gnirts eht esrever ot ecnetnes nohtyp gnol A'"
      ]
     },
     "execution_count": 7,
     "metadata": {},
     "output_type": "execute_result"
    }
   ],
   "source": [
    "#Q1). Write a code to reverse a string.\n",
    "\n",
    "#A1). \n",
    "sentence = \"A long python sentence to reverse the string\"\n",
    "sentence[::-1]"
   ]
  },
  {
   "cell_type": "code",
   "execution_count": 8,
   "id": "11b41c46-de54-4259-ba90-f5763f48ec12",
   "metadata": {},
   "outputs": [
    {
     "name": "stdout",
     "output_type": "stream",
     "text": [
      "The number of vowels present in the given string is 9\n"
     ]
    }
   ],
   "source": [
    "#Q2). Write a code to count the number of vowels in a string\n",
    "\n",
    "#A2). \n",
    "def count_vowels(s):\n",
    "    vowels = \"aeiouAEIOU\"\n",
    "    count = 0\n",
    "    for char in s:\n",
    "        if char in vowels:\n",
    "            count += 1\n",
    "    return count\n",
    "sentence = \"An apple is a healthy fruit\"\n",
    "vowel_count = count_vowels(sentence)\n",
    "print(f\"The number of vowels present in the given string is {vowel_count}\")\n",
    "    "
   ]
  },
  {
   "cell_type": "code",
   "execution_count": 3,
   "id": "e3941804-6a3c-4d8c-9d93-a318c556414b",
   "metadata": {},
   "outputs": [
    {
     "name": "stdout",
     "output_type": "stream",
     "text": [
      "\"A man, a plan, a canal, Panama\" is a palindrome.\n"
     ]
    }
   ],
   "source": [
    "#Q3). Write a code to check if a given string is a palindrome or not.\n",
    "\n",
    "#A3).\n",
    "def is_palindrome(s):\n",
    "    cleaned_string = ''.join(char.lower() for char in s if char.isalnum())\n",
    "    return cleaned_string == cleaned_string[::-1]\n",
    "input_string = \"A man, a plan, a canal, Panama\"\n",
    "if is_palindrome(input_string):\n",
    "    print(f'\"{input_string}\" is a palindrome.')\n",
    "else:\n",
    "    print(f'\"{input_string}\" is not a palindrome.')\n"
   ]
  },
  {
   "cell_type": "code",
   "execution_count": 6,
   "id": "42e2d851-4962-4411-b850-6bf689f257a9",
   "metadata": {},
   "outputs": [
    {
     "name": "stdout",
     "output_type": "stream",
     "text": [
      "\"Listen\" and \"Silent\" are anagrams.\n"
     ]
    }
   ],
   "source": [
    "#Q4). Write a code to check if two given strings are anagrams of each other\n",
    "\n",
    "#A4). \n",
    "def are_anagrams(str1, str2):\n",
    "    str1_cleaned = ''.join(str1.split()).lower()\n",
    "    str2_cleaned = ''.join(str2.split()).lower()\n",
    "    return sorted(str1_cleaned) == sorted(str2_cleaned)\n",
    "string1 = \"Listen\"\n",
    "string2 = \"Silent\"\n",
    "if are_anagrams(string1, string2):\n",
    "    print(f'\"{string1}\" and \"{string2}\" are anagrams.')\n",
    "else:\n",
    "    print(f'\"{string1}\" and \"{string2}\" are not anagrams.')\n"
   ]
  },
  {
   "cell_type": "code",
   "execution_count": 10,
   "id": "c2ac7a3a-3f90-4a65-a245-5eead1a2e0f4",
   "metadata": {},
   "outputs": [
    {
     "name": "stdout",
     "output_type": "stream",
     "text": [
      "The substring 'test' is found at positions: [10, 21, 36]\n"
     ]
    }
   ],
   "source": [
    "#Q5). Write a code to find all occurrences of a given substring within another string.\n",
    "\n",
    "#A5). \n",
    "def find_all_occurences(main_string,substring):\n",
    "    occurences = []\n",
    "    start = 0\n",
    "    while True:\n",
    "        start = main_string.find(substring, start)\n",
    "        if start == -1:\n",
    "            break\n",
    "        occurences.append(start)\n",
    "        start += len(substring)\n",
    "    return occurences\n",
    "main_string = \"This is a test. This test is only a test.\"\n",
    "substring = \"test\"\n",
    "occurences = find_all_occurences(main_string, substring)\n",
    "print(f\"The substring '{substring}' is found at positions: {occurences}\")"
   ]
  },
  {
   "cell_type": "code",
   "execution_count": 10,
   "id": "5a636cab-f8e7-4c67-877f-b24930a37a63",
   "metadata": {},
   "outputs": [
    {
     "name": "stdout",
     "output_type": "stream",
     "text": [
      "a2b1c5a3\n"
     ]
    }
   ],
   "source": [
    "#Q6). Write a code to perform basic string compression using the counts of repeated characters.\n",
    "\n",
    "#A6). \n",
    "def compressed_string(s):\n",
    "    if not s:\n",
    "        return \"\"\n",
    "    compressed = []\n",
    "    count = 1\n",
    "    for i in range(1, len(s)):\n",
    "        if s[i] == s[i - 1]:\n",
    "            count += 1\n",
    "        else:\n",
    "            compressed.append(s[i - 1] + str(count))\n",
    "            count = 1\n",
    "    compressed.append(s[-1] + str(count))\n",
    "    result = \"\".join(compressed)\n",
    "    return result\n",
    "\n",
    "input_string = \"aabcccccaaa\"\n",
    "compressed = compressed_string(input_string)\n",
    "print(compressed)  "
   ]
  },
  {
   "cell_type": "code",
   "execution_count": 12,
   "id": "46227531-a3b3-4a6f-a534-4152147c9cbc",
   "metadata": {},
   "outputs": [
    {
     "name": "stdout",
     "output_type": "stream",
     "text": [
      "True\n",
      "False\n"
     ]
    }
   ],
   "source": [
    "#Q7). Write a code to determine if a string has all unique characters.\n",
    "\n",
    "#A7). \n",
    "def has_unique_character(s):\n",
    "    return(len(set(s))== len(s))\n",
    "input_string = \"abcdef\"\n",
    "print(has_unique_character(input_string))\n",
    "input_string = \"aabbcc\"\n",
    "print(has_unique_character(input_string))"
   ]
  },
  {
   "cell_type": "code",
   "execution_count": 21,
   "id": "887116cc-3fcd-4385-8ad0-d65d2572d68b",
   "metadata": {},
   "outputs": [
    {
     "name": "stdout",
     "output_type": "stream",
     "text": [
      "Uppercase: THIS IS A PYTHON STRING\n"
     ]
    }
   ],
   "source": [
    "#Q8). Write a code to convert a given string to uppercase or lowercase.\n",
    "\n",
    "#A8).\n",
    "def convert_case(s, to_upper = True):\n",
    "    if to_upper:\n",
    "        return s.upper()\n",
    "    else:\n",
    "        return s.lower()\n",
    "input_string = \"this is a python string\"\n",
    "upper_string = convert_case(input_string, to_upper = True)\n",
    "print(\"Uppercase:\", upper_string)\n"
   ]
  },
  {
   "cell_type": "code",
   "execution_count": 6,
   "id": "e6c0a3e6-e658-4381-9c1d-1597421eb37d",
   "metadata": {},
   "outputs": [
    {
     "name": "stdout",
     "output_type": "stream",
     "text": [
      "8\n"
     ]
    }
   ],
   "source": [
    "#Q9). Write a code to count the number of words in a string.\n",
    "\n",
    "#A9). \n",
    "def count_words(s):\n",
    "    words = s.split()\n",
    "    return len(words)\n",
    "string = \"This is a sample string with several words.\"\n",
    "word_count = count_words(string)\n",
    "print(word_count)"
   ]
  },
  {
   "cell_type": "code",
   "execution_count": 13,
   "id": "85d895cb-177f-47c8-9179-c9672c2b708d",
   "metadata": {},
   "outputs": [
    {
     "name": "stdout",
     "output_type": "stream",
     "text": [
      "Hello World\n"
     ]
    }
   ],
   "source": [
    "#Q10). Write a code to concatenate two strings without using the + operator.\n",
    "\n",
    "#A10). \n",
    "def concatenate(s1,s2):\n",
    "    return ' '.join([s1,s2])\n",
    "result = concatenate(\"Hello\", \"World\")\n",
    "print(result)"
   ]
  },
  {
   "cell_type": "code",
   "execution_count": 22,
   "id": "9837970a-b11c-48c4-b6f4-34c96785e6bc",
   "metadata": {},
   "outputs": [
    {
     "name": "stdout",
     "output_type": "stream",
     "text": [
      "[1, 3, 4, 5]\n"
     ]
    }
   ],
   "source": [
    "#Q11). Write a code to remove all occurrences of a specific element from a list.\n",
    "\n",
    "#A11).\n",
    "def remove_all_occurences(lst, element):\n",
    "    return [item for item in lst if item != element]\n",
    "my_list = [1,2,3,2,4,2,5]\n",
    "element_to_remove = 2\n",
    "new_list = remove_all_occurences(my_list, element_to_remove)\n",
    "print(new_list)"
   ]
  },
  {
   "cell_type": "code",
   "execution_count": 23,
   "id": "ee7b7d43-1824-4b94-a7b2-f38c61124050",
   "metadata": {},
   "outputs": [
    {
     "name": "stdout",
     "output_type": "stream",
     "text": [
      "6\n"
     ]
    }
   ],
   "source": [
    "#Q12). Implement a code to find the second largest number in a given list of integers.\n",
    "\n",
    "#A12). \n",
    "def find_second_largest(numbers):\n",
    "    unique_numbers = list(set(numbers))\n",
    "    unique_numbers.sort(reverse = True)\n",
    "    if len(unique_numbers) < 2:\n",
    "        return None \n",
    "    else:\n",
    "        return unique_numbers[1]\n",
    "numbers = [3, 1, 4, 1, 5, 9, 2, 6, 5, 9]\n",
    "second_largest = find_second_largest(numbers)\n",
    "print(second_largest)"
   ]
  },
  {
   "cell_type": "code",
   "execution_count": 2,
   "id": "c90a57b1-02ff-4010-b308-9c1ab0a7acaa",
   "metadata": {},
   "outputs": [
    {
     "name": "stdout",
     "output_type": "stream",
     "text": [
      "{1: 1, 2: 2, 3: 3, 4: 4}\n"
     ]
    }
   ],
   "source": [
    "#Q13). Create a code to count the occurrences of each element in a list and return a dictionary with elements as keys and their counts as values\n",
    "\n",
    "#A13).\n",
    "def count_occurences(lst):\n",
    "    count_dict = {}\n",
    "    for element in lst:\n",
    "        if element in count_dict:\n",
    "            count_dict[element] += 1\n",
    "        else:\n",
    "            count_dict[element] = 1\n",
    "            \n",
    "    return count_dict\n",
    "example_list = [1, 2, 2, 3, 3, 3, 4, 4, 4, 4]\n",
    "result = count_occurences(example_list)\n",
    "print(result)\n",
    "         "
   ]
  },
  {
   "cell_type": "code",
   "execution_count": 3,
   "id": "c10cc9e7-81c5-4367-af77-729f339ce76d",
   "metadata": {},
   "outputs": [
    {
     "name": "stdout",
     "output_type": "stream",
     "text": [
      "[5, 4, 3, 2, 1]\n"
     ]
    }
   ],
   "source": [
    "#Q14). Write a code to reverse a list in-place without using any built-in reverse functions.\n",
    "def reverse_list(l):\n",
    "    start = 0\n",
    "    end = len(l) - 1\n",
    "    while start < end:\n",
    "        l[start], l[end] = l[end], l[start]\n",
    "        start += 1\n",
    "        end -= 1\n",
    "example_list = [1, 2, 3, 4, 5]\n",
    "reverse_list(example_list)\n",
    "print(example_list)\n",
    "    "
   ]
  },
  {
   "cell_type": "code",
   "execution_count": 6,
   "id": "66b7a67a-8674-482b-9ff0-aad8b845a49d",
   "metadata": {},
   "outputs": [
    {
     "name": "stdout",
     "output_type": "stream",
     "text": [
      "[1, 2, 3, 4, 5]\n"
     ]
    }
   ],
   "source": [
    "#Q15).Implement a code to find and remove duplicates from a list while preserving the original order of elements.\n",
    "\n",
    "#A15).\n",
    "def remove_duplicate(lst):\n",
    "    seen = set()\n",
    "    unique_list = []\n",
    "    for elements in lst:\n",
    "        if elements not in seen:\n",
    "            unique_list.append(elements)\n",
    "            seen.add(elements)\n",
    "    return unique_list\n",
    "example = [1, 2, 2, 3, 4, 3, 5, 1]\n",
    "result = remove_duplicate(example)\n",
    "print(result)\n"
   ]
  },
  {
   "cell_type": "code",
   "execution_count": 2,
   "id": "91b588fe-c595-4dea-b15a-5aedf6aca56b",
   "metadata": {},
   "outputs": [
    {
     "name": "stdout",
     "output_type": "stream",
     "text": [
      "The list is sorted in ascending order\n",
      "The list is sorted in descending order\n",
      "The list is not sorted\n"
     ]
    }
   ],
   "source": [
    "#Q16). Create a code to check if a given list is sorted (either in ascending or descending order) or not.\n",
    "\n",
    "#A16). \n",
    "def is_sorted(lst):\n",
    "    if lst == sorted(lst):\n",
    "        return \"The list is sorted in ascending order\"\n",
    "    elif lst == sorted(lst, reverse = True):\n",
    "        return \"The list is sorted in descending order\"\n",
    "    else:\n",
    "        return \"The list is not sorted\"\n",
    "lst1 = [1,2,3,4,5]\n",
    "lst2 = [5,4,3,2,1]\n",
    "lst3 = [3,1,2,4,5]\n",
    "print(is_sorted(lst1))\n",
    "print(is_sorted(lst2))\n",
    "print(is_sorted(lst3))"
   ]
  },
  {
   "cell_type": "code",
   "execution_count": 5,
   "id": "6c299eb7-9150-458a-8793-96cf318aa14f",
   "metadata": {},
   "outputs": [
    {
     "name": "stdout",
     "output_type": "stream",
     "text": [
      "[1, 2, 3, 4, 5, 6, 7, 8]\n"
     ]
    }
   ],
   "source": [
    "#Q17). Write a code to merge two sorted lists into a single sorted list.\n",
    "\n",
    "#A17).\n",
    "def merge_sorted_lists(list1, list2):\n",
    "    merged_list = []\n",
    "    i, j = 0, 0\n",
    "    while i < len(list1) and j < len(list2):\n",
    "        if list1[i] < list2[j]:\n",
    "            merged_list.append(list1[i])\n",
    "            i += 1\n",
    "        else:\n",
    "            merged_list.append(list2[j])\n",
    "            j += 1\n",
    "    while i < len(list1):\n",
    "        merged_list.append(list1[i])\n",
    "        i += 1\n",
    "    while j < len(list2):\n",
    "        merged_list.append(list2[j])\n",
    "        j += 1\n",
    "    \n",
    "    return merged_list\n",
    "list1 = [1, 3, 5, 7]\n",
    "list2 = [2, 4, 6, 8]\n",
    "\n",
    "result = merge_sorted_lists(list1, list2)\n",
    "print(result)"
   ]
  },
  {
   "cell_type": "code",
   "execution_count": 7,
   "id": "d4de6eb4-6a74-4de0-aefa-95f8b36a0bc6",
   "metadata": {},
   "outputs": [
    {
     "name": "stdout",
     "output_type": "stream",
     "text": [
      "[2, 3]\n"
     ]
    }
   ],
   "source": [
    "#Q18). Implement a code to find the intersection of two given lists\n",
    "\n",
    "#A18).\n",
    "def list_intersection(list1,list2):\n",
    "    set1 = set(list1)\n",
    "    intersection = set()\n",
    "    for item in list2:\n",
    "        if item in set1:\n",
    "            intersection.add(item)\n",
    "    return list(intersection)\n",
    "list1 = [1, 2, 2, 3, 4]\n",
    "list2 = [2, 3, 5, 6]\n",
    "result = list_intersection(list1, list2)\n",
    "print(result)"
   ]
  },
  {
   "cell_type": "code",
   "execution_count": 8,
   "id": "4ae4152f-36b2-458a-9c28-5a0fad2a473e",
   "metadata": {},
   "outputs": [
    {
     "name": "stdout",
     "output_type": "stream",
     "text": [
      "[1, 2, 3, 4, 5, 6]\n"
     ]
    }
   ],
   "source": [
    "#Q19). Create a code to find the union of two lists without duplicates.\n",
    "\n",
    "#A19).\n",
    "def list_union(list1, list2):\n",
    "    union_set = set(list1) | set(list2)\n",
    "    return list(union_set)\n",
    "list1 = [1, 2, 2, 3, 4]\n",
    "list2 = [3, 4, 5, 6]\n",
    "result = list_union(list1, list2)\n",
    "print(result)"
   ]
  },
  {
   "cell_type": "code",
   "execution_count": 10,
   "id": "7184d263-9abb-43f2-80df-47e05ed9cbb4",
   "metadata": {},
   "outputs": [
    {
     "name": "stdout",
     "output_type": "stream",
     "text": [
      "[4, 1, 3, 5, 2]\n"
     ]
    }
   ],
   "source": [
    "#Q20). Write a code to shuffle a given list randomly without using any built-in shuffle functions\n",
    "\n",
    "#A20).\n",
    "import random\n",
    "def shuffle_list(lst):\n",
    "    n = len(lst)\n",
    "    for i in range(n - 1, 0, -1):\n",
    "        j = random.randint(0, i)\n",
    "        lst[i], lst[j] = lst[j], lst[i]\n",
    "    return lst\n",
    "original_list = [1, 2, 3, 4, 5]\n",
    "shuffled_list = shuffle_list(original_list[:])  \n",
    "print(shuffled_list)"
   ]
  },
  {
   "cell_type": "code",
   "execution_count": 12,
   "id": "7c5ca2b2-a24f-4b29-a46a-9288fa403d63",
   "metadata": {},
   "outputs": [
    {
     "name": "stdout",
     "output_type": "stream",
     "text": [
      "{3, 4, 5}\n"
     ]
    }
   ],
   "source": [
    "#Q21). Write a code that takes two tuples as input and returns a new tuple containing elements that are common to both input tuple.\n",
    "\n",
    "#A21).\n",
    "def common_tuples(tuple1, tuple2):\n",
    "    set1 = set(tuple1)\n",
    "    set2 = set(tuple2)\n",
    "    common_set = set1& set2\n",
    "    return common_set\n",
    "tuple1 = (1,2,3,4,5)\n",
    "tuple2 = (3,4,5,6,7)\n",
    "result = common_tuples(tuple1, tuple2)\n",
    "print(result) "
   ]
  },
  {
   "cell_type": "code",
   "execution_count": 14,
   "id": "9159e2cf-1cc5-4ffb-9682-cc68ae5485e3",
   "metadata": {},
   "outputs": [
    {
     "name": "stdin",
     "output_type": "stream",
     "text": [
      "Enter the first set of integers, separated by commas:  1,2,3,4,5,6\n",
      "Enter the second set of integers, separated by commas:  2,3,5,6,7,7,8\n"
     ]
    },
    {
     "name": "stdout",
     "output_type": "stream",
     "text": [
      "The intersection of the two set is: {2, 3, 5, 6}\n"
     ]
    }
   ],
   "source": [
    "#Q22). Create a code that prompts the user to enter two sets of integers separated by commas. Then, print the intersection of these two sets. \n",
    "\n",
    "#A22). \n",
    "def get_set_from_input(prompt):\n",
    "    user_input = input(prompt)\n",
    "    number_list = [int(x.strip()) for x in user_input.split(',')]\n",
    "    return set(number_list)\n",
    "set1 = get_set_from_input(\"Enter the first set of integers, separated by commas: \")\n",
    "set2 = get_set_from_input(\"Enter the second set of integers, separated by commas: \")\n",
    "intersection = set1 & set2\n",
    "print(\"The intersection of the two set is:\", intersection)                  "
   ]
  },
  {
   "cell_type": "code",
   "execution_count": 15,
   "id": "aec05187-89f9-4af8-8640-7b2c475fd38e",
   "metadata": {},
   "outputs": [
    {
     "name": "stdout",
     "output_type": "stream",
     "text": [
      "(1, 2, 3, 4, 5, 6)\n"
     ]
    }
   ],
   "source": [
    "#Q23). Write a code to concatenate two tuples. The function should take two tuples as input and return a new tuple containing elements from both input tuples.\n",
    "\n",
    "#A23).\n",
    "def concatenate_tuples(tuple1, tuple2):\n",
    "    concatenate_tuples = tuple1 + tuple2\n",
    "    return concatenate_tuples\n",
    "tuple_a = (1,2,3)\n",
    "tuple_b = (4,5,6)\n",
    "result = concatenate_tuples(tuple_a, tuple_b)\n",
    "print(result)"
   ]
  },
  {
   "cell_type": "code",
   "execution_count": 2,
   "id": "df12ca0d-5d35-4d6f-8841-f1544bc76a41",
   "metadata": {},
   "outputs": [
    {
     "name": "stdin",
     "output_type": "stream",
     "text": [
      "Enter the first set of strings, separated by commas:  country, india, asia\n",
      "Enter the second set of strings, separated by commas:  newyork, japan, eurpoe\n"
     ]
    },
    {
     "name": "stdout",
     "output_type": "stream",
     "text": [
      "Elements in the first set but not in the second set: {'i', 'd', 't', 's', 'c'}\n"
     ]
    }
   ],
   "source": [
    "#Q24).Develop a code that prompts the user to input two sets of strings. Then, print the elements that arepresent in the first set but not in the second set.\n",
    "\n",
    "#A24). \n",
    "def get_set_from_input(promt):\n",
    "    user_input = input(promt)\n",
    "    return set(x.strip() for x in user_input.strip(','))\n",
    "set1 = get_set_from_input(\"Enter the first set of strings, separated by commas: \")\n",
    "set2 = get_set_from_input(\"Enter the second set of strings, separated by commas: \")\n",
    "difference = set1 - set2\n",
    "print(\"Elements in the first set but not in the second set:\", difference)\n"
   ]
  },
  {
   "cell_type": "code",
   "execution_count": 3,
   "id": "63f98424-68b0-405d-b784-cc294784f99b",
   "metadata": {},
   "outputs": [
    {
     "name": "stdout",
     "output_type": "stream",
     "text": [
      "(20, 30, 40)\n"
     ]
    }
   ],
   "source": [
    "#Q25). Create a code that takes a tuple and two integers as input. The function should return a new tuple containing elements from the original tuple within the specified range of indices.\n",
    "\n",
    "#A25).\n",
    "def slice_tuple(original_tuple, start_index, end_index):\n",
    "    sliced_tuple = original_tuple[start_index:end_index]\n",
    "    return sliced_tuple\n",
    "original_tuple = (10, 20, 30, 40, 50, 60)\n",
    "start = 1\n",
    "end = 4\n",
    "result = slice_tuple(original_tuple, start, end)\n",
    "print(result)"
   ]
  },
  {
   "cell_type": "code",
   "execution_count": 5,
   "id": "00c973ec-5acc-4454-a7d4-c8761093044f",
   "metadata": {},
   "outputs": [
    {
     "name": "stdin",
     "output_type": "stream",
     "text": [
      "Enter the first set of characters, spearated by commas:  1,2,3,4,5\n",
      "Enter the second set of characters, spearated by commas:  2,3,4,6,7\n"
     ]
    },
    {
     "name": "stdout",
     "output_type": "stream",
     "text": [
      "The union of the two sets is: {'3', '7', '1', '2', '5', '4', '6'}\n"
     ]
    }
   ],
   "source": [
    "#Q26). Write a code that prompts the user to input two sets of characters. Then, print the union of these two sets.\n",
    "\n",
    "#26).\n",
    "def get_set_from_input(prompt):\n",
    "    user_input = input(prompt)\n",
    "    return set(x.strip() for x in user_input.split(','))\n",
    "set1 = get_set_from_input(\"Enter the first set of characters, spearated by commas: \")\n",
    "set2 = get_set_from_input(\"Enter the second set of characters, spearated by commas: \")\n",
    "union_set = set1 | set2 \n",
    "print(\"The union of the two sets is:\", union_set)"
   ]
  },
  {
   "cell_type": "code",
   "execution_count": 7,
   "id": "14bf0def-8d49-4ebd-af6e-071721fb3fd5",
   "metadata": {},
   "outputs": [
    {
     "name": "stdout",
     "output_type": "stream",
     "text": [
      "Maximum value: 9, Minimum value: 1\n"
     ]
    }
   ],
   "source": [
    "#Q27). Develop a code that takes a tuple of integers as input. The function should return the maximum and minimum values from the tuple using tuple unpacking.\n",
    "\n",
    "#A27). \n",
    "def find_max_min(values):\n",
    "    max_values = max(values)\n",
    "    min_values = min(values)\n",
    "    return max_values, min_values\n",
    "input_tuple = (3, 1, 4, 1, 5, 9, 2, 6, 5)\n",
    "max_values, min_values = find_max_min(input_tuple)\n",
    "print(f\"Maximum value: {max_values}, Minimum value: {min_values}\")"
   ]
  },
  {
   "cell_type": "code",
   "execution_count": 8,
   "id": "565b4265-09fa-44b2-a5f1-018e21b5e820",
   "metadata": {},
   "outputs": [
    {
     "name": "stdout",
     "output_type": "stream",
     "text": [
      "Union of set1 and set2: {'3', '7', '1', '2', '5', '4', '6'}\n",
      "Intersetion of set1 and set2: {4, 5}\n",
      "Difference of set1 and set2: {1, 2, 3}\n"
     ]
    }
   ],
   "source": [
    "#Q28).Create a code that defines two sets of integers. Then, print the union, intersection, and difference of these two sets.\n",
    "\n",
    "#A28).\n",
    "set1 = {1,2,3,4,5}\n",
    "set2 = {4,5,6,7,8}\n",
    "union_Set = set1 | set2\n",
    "intersection_Set = set1 & set2 \n",
    "difference_set = set1 - set2\n",
    "print(\"Union of set1 and set2:\", union_set)\n",
    "print(\"Intersetion of set1 and set2:\", intersection_Set)\n",
    "print(\"Difference of set1 and set2:\", difference_set)"
   ]
  },
  {
   "cell_type": "code",
   "execution_count": 9,
   "id": "810febac-8863-4a37-a282-982cae656b53",
   "metadata": {},
   "outputs": [
    {
     "name": "stdout",
     "output_type": "stream",
     "text": [
      "The element 2 occurs 3 times in the tuple\n"
     ]
    }
   ],
   "source": [
    "#Q29). Write a code that takes a tuple and an element as input. The function should return the count of occurrences of the given element in the tuple.\n",
    "\n",
    "#A29). \n",
    "def count_occurences(input_tuple, element):\n",
    "    return input_tuple.count(element)\n",
    "example_tuple = (1, 2, 3, 2, 4, 2, 5, 6)\n",
    "element_to_count = 2\n",
    "count = count_occurences(example_tuple, element_to_count)\n",
    "print(f\"The element {element_to_count} occurs {count} times in the tuple\")"
   ]
  },
  {
   "cell_type": "code",
   "execution_count": 1,
   "id": "b710e8d9-17ab-4aef-a373-63eb7fea112a",
   "metadata": {},
   "outputs": [
    {
     "name": "stdin",
     "output_type": "stream",
     "text": [
      "Enter the first set of strings, separated by commas : 1,2,3,4,5\n",
      "Enter the Second set of strings, separated by commas : 3,4,5,6,7\n"
     ]
    },
    {
     "name": "stdout",
     "output_type": "stream",
     "text": [
      "The symmetric difference of the two sets is: {'7', '6', '2', '1'}\n"
     ]
    }
   ],
   "source": [
    "#Q30).Develop a code that prompts the user to input two sets of strings. Then, print the symmetric difference of these two sets.\n",
    "\n",
    "#A30 \n",
    "def get_set_from_input(prompt):\n",
    "    user_input = input(prompt)\n",
    "    return set(x.strip() for x in user_input.split(','))\n",
    "set1 = get_set_from_input(\"Enter the first set of strings, separated by commas :\")\n",
    "set2 = get_set_from_input(\"Enter the Second set of strings, separated by commas :\")\n",
    "symmetric_difference_set = set1 ^ set2\n",
    "print(\"The symmetric difference of the two sets is:\", symmetric_difference_set)"
   ]
  },
  {
   "cell_type": "code",
   "execution_count": 2,
   "id": "6a57a168-8669-4108-a8b4-e45c377833d7",
   "metadata": {},
   "outputs": [
    {
     "name": "stdout",
     "output_type": "stream",
     "text": [
      "{'apple': 3, 'banana': 2, 'orange': 1}\n"
     ]
    }
   ],
   "source": [
    "#Q31).Write a code that takes a list of words as input and returns a dictionary where the keys are unique words and the values are the frequencies of those words in the input list\n",
    "\n",
    "#A31).\n",
    "def word_frequencies(word_list):\n",
    "    frequency_dict = {}\n",
    "    for word in word_list:\n",
    "        if word in frequency_dict:\n",
    "            frequency_dict[word] += 1\n",
    "        else:\n",
    "            frequency_dict[word] = 1\n",
    "    return frequency_dict\n",
    "words = [\"apple\", \"banana\", \"apple\", \"orange\", \"banana\", \"apple\"]\n",
    "result = word_frequencies(words)\n",
    "print(result)"
   ]
  },
  {
   "cell_type": "code",
   "execution_count": 6,
   "id": "571a2319-89e0-447c-89ee-a2dcac0a8f87",
   "metadata": {},
   "outputs": [
    {
     "name": "stdout",
     "output_type": "stream",
     "text": [
      "{'a': 1, 'b': 5, 'c': 7, 'd': 5}\n"
     ]
    }
   ],
   "source": [
    "#Q32). Write a code that takes two dictionaries as input and merges them into a single dictionary. If there are common keys, the values should be added together\n",
    "\n",
    "#A32).\n",
    "def merge_dictionaries(dict1, dict2):                                                        \n",
    "    merged_dict = {}\n",
    "    for key, value in dict1.items():\n",
    "        merged_dict[key] = value\n",
    "    for key, value in dict2.items():\n",
    "        if key in merged_dict:\n",
    "            merged_dict[key] += value\n",
    "        else:\n",
    "            merged_dict[key] = value\n",
    "    return merged_dict\n",
    "dict1 = {'a': 1, 'b': 2, 'c': 3}\n",
    "dict2 = {'b': 3, 'c': 4, 'd': 5}\n",
    "result = merge_dictionaries(dict1, dict2)\n",
    "print(result)\n",
    "    "
   ]
  },
  {
   "cell_type": "code",
   "execution_count": 8,
   "id": "32d70673-d666-4284-bc21-cfbef7caf9d6",
   "metadata": {},
   "outputs": [
    {
     "name": "stdout",
     "output_type": "stream",
     "text": [
      "42\n",
      "99\n",
      "None\n"
     ]
    }
   ],
   "source": [
    "#Q33). Write a code to access a value in a nested dictionary. The function should take the dictionary and a list of keys as input, and return the corresponding value. If any of the keys do not exist in the dictionary, the function should return None.\n",
    "\n",
    "#A33).\n",
    "def get_nested_value(nested_dict, keys):\n",
    "    current_dict = nested_dict\n",
    "    for key in keys:\n",
    "        if key in current_dict:\n",
    "            current_dict = current_dict[key]\n",
    "        else:\n",
    "            return None\n",
    "    return current_dict\n",
    "nested_dict = {\n",
    "     'a': {\n",
    "        'b': {\n",
    "            'c': 42\n",
    "        }\n",
    "    },\n",
    "    'x': {\n",
    "        'y': {\n",
    "            'z': 99\n",
    "        }\n",
    "    }\n",
    "}\n",
    "keys1 = ['a', 'b', 'c']\n",
    "keys2 = ['x', 'y', 'z']\n",
    "keys3 = ['a', 'b', 'x']\n",
    "\n",
    "print(get_nested_value(nested_dict, keys1))  \n",
    "print(get_nested_value(nested_dict, keys2))  \n",
    "print(get_nested_value(nested_dict, keys3)) \n"
   ]
  },
  {
   "cell_type": "code",
   "execution_count": 11,
   "id": "983b175f-756c-416f-b229-a6b1fb402cd9",
   "metadata": {},
   "outputs": [
    {
     "name": "stdout",
     "output_type": "stream",
     "text": [
      "Sorted dictionary (ascending),: {'banana': 2, 'date': 3, 'apple': 5, 'cherry': 7}\n",
      "Sorted dictionary (descending): {'cherry': 7, 'apple': 5, 'date': 3, 'banana': 2}\n"
     ]
    }
   ],
   "source": [
    "#Q34). Write a code that takes a dictionary as input and returns a sorted version of it based on the values. You can choose whether to sort in ascending or descending order.\n",
    "\n",
    "#A34).\n",
    "def sorted_dict_by_values(input_dict, ascending = True):\n",
    "    sorted_items = sorted(input_dict.items(), key = lambda item: item[1] , reverse =not ascending)\n",
    "    sorted_dict = dict(sorted_items)\n",
    "    return sorted_dict\n",
    "example_dict = {'apple': 5, 'banana': 2, 'cherry': 7, 'date': 3}\n",
    "sorted_dict_asc = sorted_dict_by_values(example_dict, ascending= True)\n",
    "print(\"Sorted dictionary (ascending),:\", sorted_dict_asc)\n",
    "sorted_dict_desc = sorted_dict_by_values(example_dict, ascending=False)\n",
    "print(\"Sorted dictionary (descending):\", sorted_dict_desc)"
   ]
  },
  {
   "cell_type": "code",
   "execution_count": 12,
   "id": "3b6e1fb4-096c-474d-b800-ecdf01465eff",
   "metadata": {},
   "outputs": [
    {
     "ename": "SyntaxError",
     "evalue": "incomplete input (1900337924.py, line 8)",
     "output_type": "error",
     "traceback": [
      "\u001b[0;36m  Cell \u001b[0;32mIn[12], line 8\u001b[0;36m\u001b[0m\n\u001b[0;31m    \u001b[0m\n\u001b[0m    ^\u001b[0m\n\u001b[0;31mSyntaxError\u001b[0m\u001b[0;31m:\u001b[0m incomplete input\n"
     ]
    }
   ],
   "source": [
    "#Q35). Write a code that inverts a dictionary, swapping keys and values. Ensure that the inverted dictionary correctly handles cases where multiple keys have the same value by storing the keys as a list in the inverted dictionary.\n",
    "\n",
    "#A35). \n",
    "def invert_dict(input_dict):\n",
    "    inverted_dict = {}\n",
    "    for key, value in input_dict.items():\n",
    "        if value not in inverted_dict:\n",
    "            inverted_dict[value] = [key]\n",
    "        else:\n",
    "            inverted_dict[value].append(key)\n",
    "    return inverted_dict\n",
    "example_dict = {'a': 1, 'b': 2, 'c': 1, 'd': 3, 'e': 2}\n",
    "inverted = invert\n",
    "\n"
   ]
  },
  {
   "cell_type": "code",
   "execution_count": null,
   "id": "e23f36e0-e371-430b-b9de-d20524cb5db8",
   "metadata": {},
   "outputs": [],
   "source": []
  },
  {
   "cell_type": "code",
   "execution_count": null,
   "id": "0d411851-cc55-4fb6-8a2d-c6ee79bef9ec",
   "metadata": {},
   "outputs": [],
   "source": []
  },
  {
   "cell_type": "code",
   "execution_count": null,
   "id": "b01801bc-4e6a-403e-b1af-54cdaeee68e0",
   "metadata": {},
   "outputs": [],
   "source": []
  }
 ],
 "metadata": {
  "kernelspec": {
   "display_name": "Python 3 (ipykernel)",
   "language": "python",
   "name": "python3"
  },
  "language_info": {
   "codemirror_mode": {
    "name": "ipython",
    "version": 3
   },
   "file_extension": ".py",
   "mimetype": "text/x-python",
   "name": "python",
   "nbconvert_exporter": "python",
   "pygments_lexer": "ipython3",
   "version": "3.10.8"
  }
 },
 "nbformat": 4,
 "nbformat_minor": 5
}
