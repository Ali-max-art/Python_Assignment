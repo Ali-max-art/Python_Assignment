{
 "cells": [
  {
   "cell_type": "markdown",
   "id": "157f08a0-b268-4236-b40c-9320e56cd03f",
   "metadata": {},
   "source": [
    "# Numpy Assignment  "
   ]
  },
  {
   "cell_type": "code",
   "execution_count": 11,
   "id": "9a607413-d73b-428c-985b-6fe7a024ad20",
   "metadata": {},
   "outputs": [],
   "source": [
    "#Q1). Explain the purpose and advantages of NumPy in scientific computing and data analysis. How does it enhance Python's capabilities for numerical operations?\n",
    "\n",
    "#A1). NumPy is an indispensable tool for scientific computing, data analysis, and numerical computations in Python. Its ability to efficiently handle arrays, perform complex mathematical operations, and seamlessly integrate with other libraries solidifies its position as the cornerstone of numerical computing in Python\n"
   ]
  },
  {
   "cell_type": "code",
   "execution_count": 1,
   "id": "5ae47d84-88cd-4df9-845e-7a02e5c5458d",
   "metadata": {},
   "outputs": [],
   "source": [
    "#Q2). Compare and contrast np.mean() and np.average() functions in NumPy. When would you use one over the other?\n",
    "\n",
    "\n",
    "#A2). In NumPy, both np.mean() and np.average() are used to compute the average of an array's elements, but they have some key differences in functionality:"
   ]
  },
  {
   "cell_type": "markdown",
   "id": "6bd983f6-e5bd-4f5f-8277-5ed06a6a266a",
   "metadata": {},
   "source": [
    "### np.mean()"
   ]
  },
  {
   "cell_type": "code",
   "execution_count": 9,
   "id": "49ab9588-1e04-4dd9-856d-c0d25f8e8e6f",
   "metadata": {},
   "outputs": [],
   "source": [
    "# np.mean() calculates the the arithmetic mean (average) of array along a specified axis.\n",
    "# Synthax:- np.mean(a, axis = None, dtype = None, out = None)\n",
    "# Usage:- Use np.mean() when you want to calculate the simple arithmetic mean without considering different weights for the elements."
   ]
  },
  {
   "cell_type": "markdown",
   "id": "a41dce57-d275-4064-a7fd-9367d16af4c0",
   "metadata": {},
   "source": [
    "### np.average()"
   ]
  },
  {
   "cell_type": "code",
   "execution_count": 10,
   "id": "f160407a-ba9e-473d-bb75-a64ab37fcdcd",
   "metadata": {},
   "outputs": [],
   "source": [
    "# np.average() computes the weighted average of the array elements. If now weights are specified ,it behaves like np.mean()\n",
    "# Synthax:- np.average(a, axis = None, weights = None, returned = None)\n",
    "# Usage:- Use np.average() when you need to compute a weighted average, where some elements contribute more to the final average than others."
   ]
  },
  {
   "cell_type": "markdown",
   "id": "989895f5-ede7-4ed0-9be4-329acb00ef67",
   "metadata": {},
   "source": [
    "### When to Use One Over the Other?"
   ]
  },
  {
   "cell_type": "code",
   "execution_count": 8,
   "id": "c680b7be-d84d-4ea1-b881-51b9da5c0b23",
   "metadata": {},
   "outputs": [],
   "source": [
    "# np.mean():\n",
    "# When you need the simple arithmetic mean without any weights. \n",
    "# Example: Calculating the average of temperatures recorded over a week.\n",
    "\n",
    "# np.average():\n",
    "# When calculating a weighted average, especially if different elements have different levels of importance.\n",
    "# Example: Calculating the average score of a student where different assignments have different weightage."
   ]
  },
  {
   "cell_type": "code",
   "execution_count": 12,
   "id": "47236931-af09-4a6e-881d-77c789d249e0",
   "metadata": {},
   "outputs": [],
   "source": [
    "#Q3). Describe the methods for reversing a NumPy array along different axes. Provide examples for 1D and 2D arrays.\n",
    "\n",
    "#A3). Reversing a NumPy array involves rearranging its elements in reverse order. Depending on the dimensionality of the array (1D, 2D, etc.), you can reverse the array along different axes. Here are the common methods for reversing NumPy arrays:"
   ]
  },
  {
   "cell_type": "markdown",
   "id": "98717c0f-de73-4c1f-a025-03d6f9560d66",
   "metadata": {},
   "source": [
    "###  Reversing a 1D Array"
   ]
  },
  {
   "cell_type": "code",
   "execution_count": 13,
   "id": "fd758922-bb5a-4b39-af81-d833ebde4327",
   "metadata": {},
   "outputs": [
    {
     "name": "stdout",
     "output_type": "stream",
     "text": [
      "Original 1D array: [1 2 3 4 5]\n",
      "Reversed 1D array: [5 4 3 2 1]\n"
     ]
    }
   ],
   "source": [
    "import numpy as np\n",
    "arr_1D = np.array([1,2,3,4,5])\n",
    "reversed_arr_1D = arr_1D[::-1]\n",
    "print(\"Original 1D array:\", arr_1D)\n",
    "print(\"Reversed 1D array:\", reversed_arr_1D)"
   ]
  },
  {
   "cell_type": "markdown",
   "id": "c0a8c044-c54e-46d7-881c-e7e09ea18e95",
   "metadata": {},
   "source": [
    "### Reversing a 2D Array"
   ]
  },
  {
   "cell_type": "code",
   "execution_count": 17,
   "id": "840b4f8c-7561-4df5-8986-4e9d0c74cba2",
   "metadata": {},
   "outputs": [
    {
     "name": "stdout",
     "output_type": "stream",
     "text": [
      "Original 2D array:\n",
      " [[1 2 3]\n",
      " [4 5 6]\n",
      " [7 8 9]]\n",
      "Reversed 2D array:\n",
      " [[7 8 9]\n",
      " [4 5 6]\n",
      " [1 2 3]]\n"
     ]
    }
   ],
   "source": [
    "arr_2D = np.array([[1,2,3], [4,5,6], [7,8,9]])\n",
    "reversed_rows = arr_2D[::-1, :]\n",
    "print(\"Original 2D array:\\n\", arr_2D)\n",
    "print(\"Reversed 2D array:\\n\", reversed_rows)"
   ]
  },
  {
   "cell_type": "code",
   "execution_count": 19,
   "id": "8e739b5b-4994-4697-a75a-4651f242c757",
   "metadata": {},
   "outputs": [
    {
     "name": "stdout",
     "output_type": "stream",
     "text": [
      "Columns reversed 2D array:\n",
      " [[3 2 1]\n",
      " [6 5 4]\n",
      " [9 8 7]]\n"
     ]
    }
   ],
   "source": [
    "# Reversing Columns (along axis 1):\n",
    "\n",
    "reversed_columns = arr_2D[:, ::-1]\n",
    "print(\"Columns reversed 2D array:\\n\",reversed_columns)"
   ]
  },
  {
   "cell_type": "code",
   "execution_count": 20,
   "id": "76f07b41-366c-45d2-9374-04b66707ed1b",
   "metadata": {},
   "outputs": [
    {
     "name": "stdout",
     "output_type": "stream",
     "text": [
      "Rows an Columns reversed 2D array:\n",
      " [[9 8 7]\n",
      " [6 5 4]\n",
      " [3 2 1]]\n"
     ]
    }
   ],
   "source": [
    "# Reversing Both Rows and Columns:\n",
    "\n",
    "reversed_columns = arr_2D[::-1, ::-1]\n",
    "print(\"Rows an Columns reversed 2D array:\\n\", reversed_columns)"
   ]
  },
  {
   "cell_type": "code",
   "execution_count": 22,
   "id": "5d0eb7b0-d9ba-4fc2-bdcd-ab0e86bda520",
   "metadata": {},
   "outputs": [
    {
     "name": "stdout",
     "output_type": "stream",
     "text": [
      "The data type of arr_int is: int64\n",
      "The data type of arr_float is: float64\n",
      "The data type of arr_string is: <U6\n"
     ]
    }
   ],
   "source": [
    "#Q4). How can you determine the data type of elements in a NumPy array? Discuss the importance of data types in memory management and performance.\n",
    "\n",
    "#A4). In NumPy, the data type of the elements in an array can be determined using the dtype attribute of the array. The dtype attribute provides information about the type of the elements stored in the array, such as whether they are integers, floats, strings, etc., and their respective sizes.\n",
    "#Example of how to determine a datatype in a Numpy array:\n",
    "\n",
    "arr_int = np.array([1, 2, 3])\n",
    "arr_float = np.array([1.50, 2.50, 3.50])\n",
    "arr_string = np.array([\"Apple\", \"Banana\", \"Mangoe\"])\n",
    "print(\"The data type of arr_int is:\", arr_int.dtype)\n",
    "print(\"The data type of arr_float is:\", arr_float.dtype)\n",
    "print(\"The data type of arr_string is:\", arr_string.dtype)"
   ]
  },
  {
   "cell_type": "markdown",
   "id": "e20c4903-a23a-4aeb-add0-ea8dfc6ce457",
   "metadata": {},
   "source": [
    "### Importance of Data Types in Memory Management and Performance\n"
   ]
  },
  {
   "cell_type": "code",
   "execution_count": 23,
   "id": "50593982-473b-4368-b566-6fb02338c9bb",
   "metadata": {},
   "outputs": [],
   "source": [
    "#1 Memory Management:\n",
    "# Efficient Storage: The data type determines the amount of memory required to store each element in an array. For example, a float64 takes 64 bits (8 bytes) per element, while a float32 takes 32 bits (4 bytes). Choosing an appropriate data type can help in optimizing memory usage, especially when working with large datasets.\n",
    "# Fixed Size: NumPy arrays are homogeneous, meaning all elements are of the same data type. This allows for contiguous memory allocation, which is more efficient in terms of memory access and can reduce memory fragmentation.\n",
    "\n",
    "#2 Performance:\n",
    "# Speed of Computation: The choice of data type can significantly affect the speed of computations. Operations on arrays with simpler data types (like int32 or float32) are generally faster than operations on arrays with more complex data types (like float64 or object types). This is because simpler data types require fewer CPU cycles to process.\n",
    "# Hardware Optimization: NumPy is optimized for numerical operations, and choosing the correct data type can leverage hardware-specific optimizations. For example, using 32-bit integers or floats can take advantage of SIMD (Single Instruction, Multiple Data) instructions on modern CPUs, which can process multiple data points in parallel.\n",
    "\n",
    "#3 Precision:\n",
    "# The data type also affects the precision of numerical calculations. For example, float32 has less precision than float64. While using float32 might save memory and improve speed, it could lead to precision errors in calculations, which is crucial in applications requiring high accuracy."
   ]
  },
  {
   "cell_type": "code",
   "execution_count": null,
   "id": "06f88a55-6f8c-4b50-8999-73adb768e6ee",
   "metadata": {},
   "outputs": [],
   "source": [
    "#Q5). Define ndarrays in NumPy and explain their key features. How do they differ from standard Python lists?\n",
    "\n",
    "#A5). ndarray (short for N-dimensional array) is the core data structure in NumPy, which is a powerful library for numerical computing in Python. An ndarray can represent a multidimensional, homogeneous array of fixed-size items. This means that all elements in an ndarray have the same data type and are stored in contiguous memory locations, making operations on these arrays efficient."
   ]
  },
  {
   "cell_type": "markdown",
   "id": "2ba71c8d-49d6-490a-8ae2-7ce687dd6a1d",
   "metadata": {},
   "source": [
    "### Key Features of 'ndarray'"
   ]
  },
  {
   "cell_type": "code",
   "execution_count": 24,
   "id": "b97c9d54-c2a9-4f10-baf2-2575704e8b1e",
   "metadata": {},
   "outputs": [],
   "source": [
    "#Homogeneous Data Type:\n",
    "# All elements in an ndarray must be of the same data type (e.g., all integers, all floats, etc.). This uniformity allows NumPy to use specialized, efficient algorithms for array operations.\n",
    "\n",
    "#M ultidimensional:\n",
    "# ndarray can have multiple dimensions, making it suitable for representing matrices, tensors, or any n-dimensional grid of data. The number of dimensions is known as the array's rank, and the size of the array along each dimension is known as its shape.\n",
    "\n",
    "# Efficient Memory Storage:\n",
    "# Elements in an ndarray are stored in contiguous blocks of memory, enabling efficient access and manipulation. This layout reduces memory overhead and allows NumPy to leverage low-level optimizations.\n",
    "\n",
    "# Element-wise Operations:\n",
    "# NumPy supports vectorized operations, allowing element-wise arithmetic, logical, and other operations to be performed efficiently without explicit loops. This capability leads to more concise and faster code.\n",
    "\n",
    "# Broadcasting:\n",
    "# NumPy arrays can perform operations with arrays of different shapes through a mechanism called broadcasting. This allows for implicit expansion of smaller arrays to match the shape of larger ones during operations, without physically copying data."
   ]
  },
  {
   "cell_type": "markdown",
   "id": "0b02acdc-45aa-4034-94c0-27e4aa6818dc",
   "metadata": {},
   "source": [
    "### Differences Between ndarray and Standard Python Lists\n"
   ]
  },
  {
   "cell_type": "code",
   "execution_count": 25,
   "id": "f05b81ef-b886-4441-a553-a697c0a43c9d",
   "metadata": {},
   "outputs": [],
   "source": [
    "#1) Data Type Uniformity:\n",
    "# ndarray: All elements must be of the same data type, specified by the dtype attribute.\n",
    "# Python Lists: Can contain elements of different data types (heterogeneous).\n",
    "\n",
    "#2). Memory Efficiency:\n",
    "# ndarray: Uses contiguous memory blocks for storage, leading to efficient memory usage and fast access times.\n",
    "# Python Lists: Store elements as references to objects, leading to potential memory overhead and slower access times.\n",
    "\n",
    "#3). Performance:\n",
    "# ndarray: Operations are implemented in C and are highly optimized, making them much faster for numerical computations.\n",
    "# Python Lists: Operations are implemented in Python and involve more overhead, making them slower for numerical tasks.\n",
    "\n",
    "#4). Multidimensional Support:\n",
    "# ndarray: Natively supports multiple dimensions (e.g., 2D arrays for matrices, 3D arrays for tensors).\n",
    "# Python Lists: Can represent multidimensional data using nested lists, but this is less efficient and more cumbersome.\n",
    "\n",
    "#5). Vectorized Operations:\n",
    "# ndarray: Supports vectorized operations, enabling concise and efficient element-wise computations.\n",
    "# Python Lists: Require explicit loops for element-wise operations, which are less efficient."
   ]
  },
  {
   "cell_type": "code",
   "execution_count": 26,
   "id": "1e5ce640-7ab5-4d80-8099-5a3fa967b54f",
   "metadata": {},
   "outputs": [],
   "source": [
    "#Q6). Analyze the performance benefits of NumPy arrays over Python lists for large-scale numerical operations.\n",
    "\n",
    "#A6). NumPy arrays (ndarrays) offer significant performance benefits over Python lists, especially for large-scale numerical operations. These advantages stem from several key features and optimizations inherent in NumPy's design:\n",
    "\n",
    "#1). Memory Efficiency\n",
    "# Homogeneous Data Types: NumPy arrays require that all elements have the same data type, allowing them to be stored in contiguous memory blocks. This uniformity reduces memory overhead and increases the density of data storage.\n",
    "# Fixed Size: The size of each element is known and fixed, leading to more efficient memory allocation compared to Python lists, which can store elements of varying sizes.\n",
    "\n",
    "#2). Speed of Computation\n",
    "# Vectorization: NumPy supports vectorized operations, allowing the application of a function to entire arrays without explicit loops. This leads to significant speedups because operations are implemented at the compiled C level, avoiding the overhead of Python loops.\n",
    "# SIMD and Low-level Optimization: NumPy takes advantage of SIMD (Single Instruction, Multiple Data) and other low-level optimizations available on modern processors. This allows multiple data points to be processed simultaneously, further accelerating computations.\n",
    "\n",
    "#3). Efficient Broadcasting\n",
    "# Broadcasting: NumPy's broadcasting mechanism allows operations on arrays of different shapes without copying data. This can greatly reduce memory usage and increase computational efficiency, as it avoids the creation of intermediate arrays.\n",
    "\n",
    "#4). Reduced Overhead\n",
    "# Memory Allocation: NumPy arrays have a single block of memory for data storage, whereas Python lists are arrays of pointers to objects, leading to higher memory consumption and slower access due to indirection.\n",
    "# Optimized Operations: Many operations in NumPy, such as element-wise arithmetic, aggregation (e.g., sum, mean), and linear algebra, are implemented in compiled C and Fortran. This allows them to run much faster than equivalent operations in pure Python.\n",
    "\n",
    "#5). Use of Specialized Algorithms\n",
    "# Specialized Functions: NumPy provides a wide range of optimized functions for mathematical operations, statistical analysis, and linear algebra. These functions are often faster and more numerically stable than manually implemented equivalents in Python."
   ]
  },
  {
   "cell_type": "code",
   "execution_count": null,
   "id": "4397a58f-8030-435d-ad45-162fe818f05a",
   "metadata": {},
   "outputs": [],
   "source": [
    "#Q7). Compare vstack() and hstack() functions in NumPy. Provide examples demonstrating their usage and output.\n",
    "\n",
    "#A7). In NumPy, vstack() and hstack() are functions used to stack arrays vertically and horizontally, respectively. They are useful for combining arrays in different dimensions."
   ]
  },
  {
   "cell_type": "markdown",
   "id": "447ad34c-06db-4c24-87b5-df3c88342cd6",
   "metadata": {},
   "source": [
    "### vstack() Function"
   ]
  },
  {
   "cell_type": "code",
   "execution_count": 27,
   "id": "37b690d8-6c06-4643-9be3-a589d096dd9f",
   "metadata": {},
   "outputs": [
    {
     "name": "stdout",
     "output_type": "stream",
     "text": [
      "array1: [1 2 3]\n",
      "array2: [4 5 6]\n",
      "vstack result:\n",
      " [[1 2 3]\n",
      " [4 5 6]]\n"
     ]
    }
   ],
   "source": [
    "#The vstack() function stacks arrays along the vertical axis (rows). It requires the arrays to have the same number of columns (second dimension) but can have a different number of rows.\n",
    "array1 = np.array([1,2,3])\n",
    "array2 = np.array([4,5,6])\n",
    "result_vstack = np.vstack((array1, array2))\n",
    "print(\"array1:\", array1)\n",
    "print(\"array2:\", array2)\n",
    "print(\"vstack result:\\n\", result_vstack)"
   ]
  },
  {
   "cell_type": "markdown",
   "id": "8a2dff9d-f685-4279-ab4a-97f694e69b67",
   "metadata": {},
   "source": [
    "### hstack() Function"
   ]
  },
  {
   "cell_type": "code",
   "execution_count": 30,
   "id": "f0146e5d-6f0e-44f8-8929-a0309253e4a2",
   "metadata": {},
   "outputs": [
    {
     "name": "stdout",
     "output_type": "stream",
     "text": [
      "array1: [1 2 3]\n",
      "array2: [4 5 6]\n",
      "hstack result: [1 2 3 4 5 6]\n"
     ]
    }
   ],
   "source": [
    "# The hstack() function stacks arrays along the horizontal axis (columns). It requires the arrays to have the same number of rows (first dimension) but can have a different number of columns.\n",
    "array1 = np.array([1,2,3])\n",
    "array2 = np.array([4,5,6])\n",
    "result_hstack = np.hstack((array1, array2))\n",
    "print(\"array1:\", array1)\n",
    "print(\"array2:\", array2)\n",
    "print(\"hstack result:\", result_hstack)"
   ]
  },
  {
   "cell_type": "code",
   "execution_count": 31,
   "id": "b7d53f67-ede0-4bc8-81ad-27a0f87df91c",
   "metadata": {},
   "outputs": [],
   "source": [
    "#Q8). Explain the differences between fliplr() and flipud() methods in NumPy, including their effects on various array dimensions.\n",
    "\n",
    "#A8). In NumPy, the fliplr() and flipud() functions are used to flip arrays along specific axes. These functions are helpful for reversing the order of elements along the horizontal or vertical axis, respectively."
   ]
  },
  {
   "cell_type": "markdown",
   "id": "a3997802-dda0-4fd7-b0b4-218625635b32",
   "metadata": {},
   "source": [
    "### fliplr() Function"
   ]
  },
  {
   "cell_type": "code",
   "execution_count": 32,
   "id": "7a01f5a3-4dcd-4c91-b346-b907cd4e3007",
   "metadata": {},
   "outputs": [
    {
     "name": "stdout",
     "output_type": "stream",
     "text": [
      "Original array:\n",
      " [[1 2 3]\n",
      " [4 5 6]\n",
      " [7 8 9]]\n",
      "fliplr result:\n",
      " [[3 2 1]\n",
      " [6 5 4]\n",
      " [9 8 7]]\n"
     ]
    }
   ],
   "source": [
    "# The fliplr() function flips an array from left to right, i.e., along the horizontal axis. It requires the input array to have at least two dimensions (2D or higher).\n",
    "arr = np.array([[1,2,3],[4,5,6],[7,8,9]])\n",
    "flipped_lr = np.fliplr(arr)\n",
    "print(\"Original array:\\n\", arr)\n",
    "print(\"fliplr result:\\n\", flipped_lr)"
   ]
  },
  {
   "cell_type": "markdown",
   "id": "56617efd-644d-40e2-9394-7aa8f9a6e3dc",
   "metadata": {},
   "source": [
    "### flipud() Function"
   ]
  },
  {
   "cell_type": "code",
   "execution_count": 34,
   "id": "d86bd377-9b9e-48b6-ba34-459474c3b3a6",
   "metadata": {},
   "outputs": [
    {
     "name": "stdout",
     "output_type": "stream",
     "text": [
      "Original array:\n",
      " [[1 2 3]\n",
      " [4 5 6]\n",
      " [7 8 9]]\n",
      "flipud result:\n",
      " [[7 8 9]\n",
      " [4 5 6]\n",
      " [1 2 3]]\n"
     ]
    }
   ],
   "source": [
    "# The flipud() function flips an array upside down, i.e., along the vertical axis. It can be used on arrays of any dimensionality, including 1D arrays.\n",
    "flip_ud = np.flipud(arr)\n",
    "print(\"Original array:\\n\", arr)\n",
    "print(\"flipud result:\\n\", flip_ud)"
   ]
  },
  {
   "cell_type": "code",
   "execution_count": 36,
   "id": "cc568ebe-8618-476a-9baa-b629b4b919b9",
   "metadata": {},
   "outputs": [
    {
     "name": "stdout",
     "output_type": "stream",
     "text": [
      "Sub-array 0: [1 2 3]:\n",
      "Sub-array 1: [4 5]:\n",
      "Sub-array 2: [6 7]:\n"
     ]
    }
   ],
   "source": [
    "#Q9). Discuss the functionality of the array_split() method in NumPy. How does it handle uneven splits?\n",
    "\n",
    "#A9). The array_split() function in NumPy is used to split an array into multiple sub-arrays along a specified axis. Unlike the split() function, which requires the array to be evenly divisible into the specified number of splits, array_split() can handle cases where the array cannot be split evenly. It ensures that the resulting sub-arrays have as balanced a shape as possible, distributing the remainder elements among the sub-arrays.\n",
    "\n",
    "# Example 1: Uneven Split with Integer Sections\n",
    "arr = np.array([1,2,3,4,5,6,7])\n",
    "split_arrs = np.array_split(arr,3)\n",
    "for i, sub_array in enumerate(split_arrs):\n",
    "    print(f\"Sub-array {i}: {sub_array}:\")"
   ]
  },
  {
   "cell_type": "code",
   "execution_count": 38,
   "id": "efe9559b-fd60-41aa-a3fa-7e20f31016c3",
   "metadata": {},
   "outputs": [
    {
     "name": "stdout",
     "output_type": "stream",
     "text": [
      "Sub-array 0: [1 2]\n",
      "Sub-array 1: [3 4 5]\n",
      "Sub-array 2: [6 7]\n"
     ]
    }
   ],
   "source": [
    "# Example 2: Specifying Split Indices\n",
    "arr = np.array([1,2,3,4,5,6,7])\n",
    "split_arrs = np.array_split(arr, [2,5])\n",
    "for i, sub_array in enumerate(split_arrs):\n",
    "    print(f\"Sub-array {i}: {sub_array}\")"
   ]
  },
  {
   "cell_type": "code",
   "execution_count": 40,
   "id": "4fbc8ae7-0848-489c-9e9f-b360e321a497",
   "metadata": {},
   "outputs": [
    {
     "name": "stdout",
     "output_type": "stream",
     "text": [
      "Sub-array 0:\n",
      "[[ 1  2]\n",
      " [ 5  6]\n",
      " [ 9 10]]\n",
      "Sub-array 1:\n",
      "[[ 3  4]\n",
      " [ 7  8]\n",
      " [11 12]]\n"
     ]
    }
   ],
   "source": [
    "# Example 3: Splitting Along a Specific Axis\n",
    "arr_2D = np.array([[1,2,3,4],[5,6,7,8],[9,10,11,12]])\n",
    "split_arrs_2D = np.array_split(arr_2D, 2, axis = 1)\n",
    "for i, sub_array in enumerate(split_arrs_2D):\n",
    "    print(f\"Sub-array {i}:\\n{sub_array}\")\n"
   ]
  },
  {
   "cell_type": "code",
   "execution_count": 41,
   "id": "9f74999f-ed30-467e-b8b0-65d479ed0a7c",
   "metadata": {},
   "outputs": [],
   "source": [
    "#10). Explain the concepts of vectorization and broadcasting in NumPy. How do they contribute to efficient array operations?\n",
    "\n",
    "#10). Vectorization and broadcasting are two fundamental concepts in NumPy that significantly enhance the efficiency of array operations. They enable concise, readable code and improve performance by leveraging optimized, low-level implementations."
   ]
  },
  {
   "cell_type": "markdown",
   "id": "05290f3b-54f2-4ac6-b617-c938bacee64a",
   "metadata": {},
   "source": [
    "### Vectorization"
   ]
  },
  {
   "cell_type": "code",
   "execution_count": null,
   "id": "06118ed2-f4a4-4f6a-a00c-86aaf6a4c50c",
   "metadata": {},
   "outputs": [],
   "source": [
    "# Vectorization refers to the process of replacing explicit loops in the code with array expressions. In NumPy, many operations are vectorized, meaning they operate on entire arrays rather than individual elements. This is achieved through highly optimized C and Fortran routines, allowing NumPy to execute these operations much faster than equivalent Python loops."
   ]
  },
  {
   "cell_type": "code",
   "execution_count": 42,
   "id": "161ff00a-556a-432f-b8de-d7f701b5cc8a",
   "metadata": {},
   "outputs": [
    {
     "name": "stdout",
     "output_type": "stream",
     "text": [
      "[11 22 33 44]\n"
     ]
    }
   ],
   "source": [
    "a = np.array([1,2,3,4])\n",
    "b = np.array([10,20,30,40])\n",
    "c = a+b\n",
    "print(c)"
   ]
  },
  {
   "cell_type": "markdown",
   "id": "6a4bf027-02b7-4bc1-a1cc-430507fdc6c8",
   "metadata": {},
   "source": [
    "### Broadcasting"
   ]
  },
  {
   "cell_type": "code",
   "execution_count": 43,
   "id": "6d2ee011-279d-4cfb-8c37-671f8ba769d8",
   "metadata": {},
   "outputs": [],
   "source": [
    "# Broadcasting is a mechanism that allows NumPy to perform operations on arrays of different shapes in a way that would normally be incompatible. When performing operations between two arrays of different shapes, NumPy automatically \"broadcasts\" the smaller array across the larger array so that they have compatible shapes."
   ]
  },
  {
   "cell_type": "code",
   "execution_count": 46,
   "id": "1105da80-1897-40c7-991f-109e9b0f12af",
   "metadata": {},
   "outputs": [
    {
     "name": "stdout",
     "output_type": "stream",
     "text": [
      "[[11 12 13]\n",
      " [21 22 23]\n",
      " [31 32 33]]\n"
     ]
    }
   ],
   "source": [
    "a = np.array([1,2,3])\n",
    "b = np.array([[10], [20], [30]])\n",
    "result = a+b\n",
    "print(result)"
   ]
  },
  {
   "cell_type": "markdown",
   "id": "6315d481-43dc-458b-9615-8a7744227e04",
   "metadata": {},
   "source": [
    "### Contribution to Efficient Array Operations"
   ]
  },
  {
   "cell_type": "code",
   "execution_count": 47,
   "id": "f0fb090d-0f07-4d93-ab9f-44f493d8aa58",
   "metadata": {},
   "outputs": [],
   "source": [
    "# Memory Efficiency: Broadcasting avoids creating unnecessary intermediate arrays, saving memory. It performs operations in place where possible, reducing memory overhead.\n",
    "# Speed: Vectorized operations and broadcasting enable NumPy to take advantage of low-level optimizations and parallelism. This results in significant speedups compared to element-wise operations implemented with Python loops.\n",
    "# Ease of Use: Both concepts allow for writing concise and readable code. Complex operations can often be expressed in a single line, making the code easier to understand and maintain."
   ]
  },
  {
   "cell_type": "markdown",
   "id": "e7929f4f-51ea-4be8-bcd9-f0550846fb5e",
   "metadata": {},
   "source": [
    "### Practical Example: Vectorization and Broadcasting Combined"
   ]
  },
  {
   "cell_type": "code",
   "execution_count": 49,
   "id": "24a39ace-d1bc-4e09-bc39-1658c0f15c7c",
   "metadata": {},
   "outputs": [
    {
     "name": "stdout",
     "output_type": "stream",
     "text": [
      "[[ 1  4  9]\n",
      " [ 4 10 18]]\n"
     ]
    }
   ],
   "source": [
    "a = np.array([1,2,3])\n",
    "b = np.array([[1,2,3], [4,5,6]])\n",
    "result = a*b\n",
    "print(result)"
   ]
  },
  {
   "cell_type": "markdown",
   "id": "d3f20d0f-49a7-40c2-ac78-ce459b08616b",
   "metadata": {},
   "source": [
    "### Practical Questions:"
   ]
  },
  {
   "cell_type": "code",
   "execution_count": null,
   "id": "2617097b-cbb4-4837-8e3d-f3dd4e66f68d",
   "metadata": {},
   "outputs": [],
   "source": [
    "#Q1). Create a 3x3 NumPy array with random integers between 1 and 100. Then, interchange its rows and columns."
   ]
  },
  {
   "cell_type": "code",
   "execution_count": 2,
   "id": "64fd7d5d-0307-495b-ba95-23daa2cb188c",
   "metadata": {},
   "outputs": [
    {
     "data": {
      "text/plain": [
       "array([[86, 10, 48],\n",
       "       [ 4, 40, 26],\n",
       "       [14, 44, 88]])"
      ]
     },
     "execution_count": 2,
     "metadata": {},
     "output_type": "execute_result"
    }
   ],
   "source": [
    "import numpy as np\n",
    "arr = np.random.randint(1,101, size = (3,3))\n",
    "arr"
   ]
  },
  {
   "cell_type": "code",
   "execution_count": 4,
   "id": "1edb412b-d3bd-46c3-812b-24886084b809",
   "metadata": {},
   "outputs": [
    {
     "data": {
      "text/plain": [
       "array([[86,  4, 14],\n",
       "       [10, 40, 44],\n",
       "       [48, 26, 88]])"
      ]
     },
     "execution_count": 4,
     "metadata": {},
     "output_type": "execute_result"
    }
   ],
   "source": [
    "# Interchanging its rows and columns\n",
    "transposed_array = arr.T\n",
    "transposed_array"
   ]
  },
  {
   "cell_type": "code",
   "execution_count": 6,
   "id": "b30d61a7-a289-4118-86e6-a85514220ca1",
   "metadata": {},
   "outputs": [
    {
     "data": {
      "text/plain": [
       "array([ 1,  2,  3,  4,  5,  6,  7,  8,  9, 10])"
      ]
     },
     "execution_count": 6,
     "metadata": {},
     "output_type": "execute_result"
    }
   ],
   "source": [
    "#Q2). Generate a 1D NumPy array with 10 elements. Reshape it into a 2x5 array, then into a 5x2 array.\n",
    "\n",
    "#A2). \n",
    "arr1D = np.arange(1,11)\n",
    "arr1D"
   ]
  },
  {
   "cell_type": "code",
   "execution_count": 8,
   "id": "fc0acbd3-0470-4dc6-bf75-a56096c7aa89",
   "metadata": {},
   "outputs": [
    {
     "data": {
      "text/plain": [
       "array([[ 1,  2,  3,  4,  5],\n",
       "       [ 6,  7,  8,  9, 10]])"
      ]
     },
     "execution_count": 8,
     "metadata": {},
     "output_type": "execute_result"
    }
   ],
   "source": [
    "# Reshaping it into a 2x5 array\n",
    "array_two_by_five = arr1D.reshape(2,5)\n",
    "array_two_by_five"
   ]
  },
  {
   "cell_type": "code",
   "execution_count": 9,
   "id": "333831be-d061-4859-beee-4d5e3914b197",
   "metadata": {},
   "outputs": [
    {
     "data": {
      "text/plain": [
       "array([[ 1,  2],\n",
       "       [ 3,  4],\n",
       "       [ 5,  6],\n",
       "       [ 7,  8],\n",
       "       [ 9, 10]])"
      ]
     },
     "execution_count": 9,
     "metadata": {},
     "output_type": "execute_result"
    }
   ],
   "source": [
    "# Reshaping it into a 5x2 array\n",
    "array_five_by_two = arr1D.reshape(5,2)\n",
    "array_five_by_two"
   ]
  },
  {
   "cell_type": "code",
   "execution_count": 42,
   "id": "4c101ab1-3e61-4bfc-be63-c55d6e1be57f",
   "metadata": {},
   "outputs": [
    {
     "name": "stdout",
     "output_type": "stream",
     "text": [
      "Original Array:\n",
      " [[0.45441444 0.23680648 0.53436054 0.26372414]\n",
      " [0.94709153 0.77899644 0.98830904 0.54516069]\n",
      " [0.42565738 0.44387572 0.15225295 0.59096235]\n",
      " [0.88781453 0.25891758 0.61082964 0.73228972]]\n",
      "Padded Array:\n",
      " [[0.         0.         0.         0.         0.         0.        ]\n",
      " [0.         0.45441444 0.23680648 0.53436054 0.26372414 0.        ]\n",
      " [0.         0.94709153 0.77899644 0.98830904 0.54516069 0.        ]\n",
      " [0.         0.42565738 0.44387572 0.15225295 0.59096235 0.        ]\n",
      " [0.         0.88781453 0.25891758 0.61082964 0.73228972 0.        ]\n",
      " [0.         0.         0.         0.         0.         0.        ]]\n"
     ]
    }
   ],
   "source": [
    "# Create a 4x4 NumPy array with random float values\n",
    "array = np.random.random((4, 4))\n",
    "\n",
    "# Add a border of zeros around the array to make it 6x6\n",
    "padded_array = np.pad(array, pad_width=1, mode='constant', constant_values=0)\n",
    "\n",
    "# Print the results\n",
    "print(\"Original Array:\\n\", array)\n",
    "print(\"Padded Array:\\n\", padded_array)"
   ]
  },
  {
   "cell_type": "code",
   "execution_count": 26,
   "id": "8d3e0013-41dc-4c21-9626-d9d7e1fcd55c",
   "metadata": {},
   "outputs": [
    {
     "data": {
      "text/plain": [
       "array([[0.        , 0.        , 0.        , 0.        , 0.        ,\n",
       "        0.        ],\n",
       "       [0.        , 0.30048247, 0.99949461, 0.33227699, 0.7387629 ,\n",
       "        0.        ],\n",
       "       [0.        , 0.87981322, 0.39433008, 0.3393411 , 0.87403425,\n",
       "        0.        ],\n",
       "       [0.        , 0.92999852, 0.49678769, 0.00346318, 0.11199717,\n",
       "        0.        ],\n",
       "       [0.        , 0.40971935, 0.93941588, 0.76433348, 0.00686203,\n",
       "        0.        ],\n",
       "       [0.        , 0.        , 0.        , 0.        , 0.        ,\n",
       "        0.        ]])"
      ]
     },
     "execution_count": 26,
     "metadata": {},
     "output_type": "execute_result"
    }
   ],
   "source": [
    "#Q3). Create a 4x4 NumPy array with random float values. Add a border of zeros around it, resulting in a 6x6 array.\n",
    "\n",
    "#A3). \n",
    "original_array = np.random.rand(4, 4)\n",
    "padded_array = np.pad(original_array, pad_width = 1, m"
   ]
  },
  {
   "cell_type": "code",
   "execution_count": 28,
   "id": "8065fb64-0c43-45f7-a0b3-355519d4a9ea",
   "metadata": {},
   "outputs": [
    {
     "data": {
      "text/plain": [
       "array([10, 15, 20, 25, 30, 35, 40, 45, 50, 55, 60])"
      ]
     },
     "execution_count": 28,
     "metadata": {},
     "output_type": "execute_result"
    }
   ],
   "source": [
    "#Q4) . Using NumPy, create an array of integers from 10 to 60 with a step of 5\n",
    "\n",
    "#A4).\n",
    "array = np.arange(10,61,5)\n",
    "array"
   ]
  },
  {
   "cell_type": "code",
   "execution_count": 30,
   "id": "6dd5309e-39a8-44d4-9e08-6ffb3beb4502",
   "metadata": {},
   "outputs": [
    {
     "name": "stdout",
     "output_type": "stream",
     "text": [
      "original array: ['python' 'numpy' 'pandas']\n",
      "Uppercase: ['PYTHON' 'NUMPY' 'PANDAS']\n",
      "Lowercase: ['python' 'numpy' 'pandas']\n",
      "Titlecase: ['Python' 'Numpy' 'Pandas']\n"
     ]
    }
   ],
   "source": [
    "#Q5). Create a NumPy array of strings ['python', 'numpy', 'pandas']. Apply different case transformations (uppercase, lowercase, title case, etc.) to each element.\n",
    "\n",
    "#A5).\n",
    "array = np.array(['python', 'numpy', 'pandas'])\n",
    "upperchase_array = np.char.upper(array)\n",
    "lowercase_array = np.char.lower(array)\n",
    "titlecase_array = np.char.title(array)\n",
    "print(\"original array:\", array)\n",
    "print(\"Uppercase:\", upperchase_array)\n",
    "print(\"Lowercase:\", lowercase_array)\n",
    "print(\"Titlecase:\", titlecase_array)"
   ]
  },
  {
   "cell_type": "code",
   "execution_count": 31,
   "id": "38cb029a-0ecd-46dd-bf86-3c72616bc916",
   "metadata": {},
   "outputs": [
    {
     "name": "stdout",
     "output_type": "stream",
     "text": [
      "Original array: ['hello' 'world' 'numpy']\n",
      "Spaced array: ['h e l l o' 'w o r l d' 'n u m p y']\n"
     ]
    }
   ],
   "source": [
    "#Q6). Generate a NumPy array of words. Insert a space between each character of every word in the array.\n",
    "\n",
    "#A6).\n",
    "array_words = np.array(['hello', 'world', 'numpy'])\n",
    "spaced_array = np.char.join(' ', array_words)\n",
    "print(\"Original array:\", array_words)\n",
    "print(\"Spaced array:\", spaced_array)\n",
    "                        "
   ]
  },
  {
   "cell_type": "code",
   "execution_count": 33,
   "id": "7ca57aea-5c0b-48f5-80bd-f75662177e99",
   "metadata": {},
   "outputs": [
    {
     "name": "stdout",
     "output_type": "stream",
     "text": [
      "Array 1:\n",
      " [[1 2 3]\n",
      " [4 5 6]]\n",
      "Array 2:\n",
      " [[ 7  8  9]\n",
      " [10 11 12]]\n",
      "Addition:\n",
      " [[ 8 10 12]\n",
      " [14 16 18]]\n",
      "subraction:\n",
      " [[-6 -6 -6]\n",
      " [-6 -6 -6]]\n",
      "multiplication:\n",
      " [[ 7 16 27]\n",
      " [40 55 72]]\n",
      "Division:\n",
      " [[0.14285714 0.25       0.33333333]\n",
      " [0.4        0.45454545 0.5       ]]\n"
     ]
    }
   ],
   "source": [
    "#Q7). Create two 2D NumPy arrays and perform element-wise addition, subtraction, multiplication, and division.\n",
    "\n",
    "#A7).\n",
    "array1 = np.array([[1,2,3], [4,5,6]])\n",
    "array2 = np.array([[7,8,9],[10,11,12]])\n",
    "addition = array1 + array2\n",
    "subtraction = array1 - array2\n",
    "multiplication = array1 * array2\n",
    "division = array1 / array2\\\n",
    "\n",
    "print(\"Array 1:\\n\", array1)\n",
    "print(\"Array 2:\\n\", array2)\n",
    "print(\"Addition:\\n\", addition)\n",
    "print(\"subraction:\\n\", subtraction)\n",
    "print(\"multiplication:\\n\", multiplication)\n",
    "print(\"Division:\\n\", division)"
   ]
  },
  {
   "cell_type": "code",
   "execution_count": 36,
   "id": "e05bdb00-140d-4875-a7be-f0c318adcf01",
   "metadata": {},
   "outputs": [
    {
     "name": "stdout",
     "output_type": "stream",
     "text": [
      "Identity Matrix:\n",
      " [[1. 0. 0. 0. 0.]\n",
      " [0. 1. 0. 0. 0.]\n",
      " [0. 0. 1. 0. 0.]\n",
      " [0. 0. 0. 1. 0.]\n",
      " [0. 0. 0. 0. 1.]]\n",
      "Diagonal Elements: [1. 1. 1. 1. 1.]\n"
     ]
    }
   ],
   "source": [
    "#Q8). Use NumPy to create a 5x5 identity matrix, then extract its diagonal elements.\n",
    "\n",
    "#A8).\n",
    "identity_matrix = np.eye(5)\n",
    "diagonal_elements = np.diag(identity_matrix)\n",
    "print(\"Identity Matrix:\\n\", identity_matrix)\n",
    "print(\"Diagonal Elements:\", diagonal_elements)"
   ]
  },
  {
   "cell_type": "code",
   "execution_count": 37,
   "id": "4226a31b-9fa8-4006-8d68-1e4977c6debe",
   "metadata": {},
   "outputs": [
    {
     "name": "stdout",
     "output_type": "stream",
     "text": [
      "Random Array:\n",
      " [749 512 257 472 798 748 226 107 270 488 770 924 233 147 896 334 905 618\n",
      " 417 978 741 193 921 631 803 350 325 927 567 998 242 248 530 139 457 877\n",
      " 165 557 754 522 601 925 765 537 704 312  49  11 868 907   7 974 456  99\n",
      " 318 114 972   9 993 868 970 923 394 309 895 820 393 903 998 560 568 233\n",
      " 752 911 141 503 968 103 108 513 105 574 801 868 387 192 274 479 698 979\n",
      " 750 288 978 888 396 777 104  60 719 572]\n",
      "Prime Number:\n",
      " [749, 257, 107, 233, 193, 631, 139, 457, 877, 557, 601, 49, 11, 907, 7, 923, 233, 911, 503, 103, 479, 719]\n"
     ]
    }
   ],
   "source": [
    "#Q9). Generate a NumPy array of 100 random integers between 0 and 1000. Find and display all prime numbers in this array.\n",
    "\n",
    "#A9).\n",
    "random_array = np.random.randint(0,1001, size = 100)\n",
    "def is_prime(n):\n",
    "    if n <= 1:\n",
    "        return False\n",
    "    if n <= 3:\n",
    "        return True\n",
    "    if n % 2 == 0 or n % 3 == 0:\n",
    "        return False\n",
    "    i = 5\n",
    "    while i * i <=n:\n",
    "        if n % i == 0 or n % (1 + 2) == 0:\n",
    "            return False\n",
    "        i += 6\n",
    "    return True\n",
    "prime_number = [num for num in random_array if is_prime(num)]\n",
    "print(\"Random Array:\\n\", random_array)\n",
    "print(\"Prime Number:\\n\", prime_number) "
   ]
  },
  {
   "cell_type": "code",
   "execution_count": 40,
   "id": "1cf5a09b-badc-4205-bef7-84addcd41c03",
   "metadata": {},
   "outputs": [
    {
     "name": "stdout",
     "output_type": "stream",
     "text": [
      "Daily Temperatures:\n",
      " [24  7 17 28 26 25 23 11 30 13 24 23 16  7  7 13 13 18  4 28  7 33 16  8\n",
      " 12 26 13 11]\n",
      "Weekly Temperatures:\n",
      " [[24  7 17 28 26 25 23]\n",
      " [11 30 13 24 23 16  7]\n",
      " [ 7 13 13 18  4 28  7]\n",
      " [33 16  8 12 26 13 11]]\n",
      "Weekly Average:\n",
      " [21.42857143 17.71428571 12.85714286 17.        ]\n"
     ]
    }
   ],
   "source": [
    "#Q10). Create a NumPy array representing daily temperatures for a month. Calculate and display the weekly averages.\n",
    "\n",
    "#A10).\n",
    "daily_temperature = np.random.randint(0,35, size = 28)\n",
    "weekly_temperature = daily_temperature.reshape(4,7)\n",
    "weekly_average = np.mean(weekly_temperature, axis = 1)\n",
    "print(\"Daily Temperatures:\\n\", daily_temperature)\n",
    "print(\"Weekly Temperatures:\\n\", weekly_temperature)\n",
    "print(\"Weekly Average:\\n\", weekly_average)"
   ]
  }
 ],
 "metadata": {
  "kernelspec": {
   "display_name": "Python 3 (ipykernel)",
   "language": "python",
   "name": "python3"
  },
  "language_info": {
   "codemirror_mode": {
    "name": "ipython",
    "version": 3
   },
   "file_extension": ".py",
   "mimetype": "text/x-python",
   "name": "python",
   "nbconvert_exporter": "python",
   "pygments_lexer": "ipython3",
   "version": "3.10.8"
  }
 },
 "nbformat": 4,
 "nbformat_minor": 5
}
