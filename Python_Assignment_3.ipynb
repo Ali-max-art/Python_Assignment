{
 "cells": [
  {
   "cell_type": "markdown",
   "id": "407f5b88-975e-48ad-87d1-1b1a85fc7a3a",
   "metadata": {},
   "source": [
    "# Assignment 3\n",
    "## Theory questions "
   ]
  },
  {
   "cell_type": "code",
   "execution_count": 13,
   "id": "9249defc-38bc-4919-913b-a6479837c87a",
   "metadata": {},
   "outputs": [
    {
     "name": "stdout",
     "output_type": "stream",
     "text": [
      "Hello, Alice!\n"
     ]
    }
   ],
   "source": [
    "#Q1). What is the difference between a function and a method in Python?\n",
    "\n",
    "#A1). Functions\n",
    "'''\n",
    "1.) Definition: Functions are defined using the def keyword and can exist independently of classes.\n",
    "2.) Usage: They can be called directly by their name and can be passed arguments.\n",
    "3.) Scope: Functions can be defined at the module level or within another function.\n",
    "'''\n",
    "\n",
    "#Example:\n",
    "def greet(name):\n",
    "    return f\"Hello, {name}!\"\n",
    "\n",
    "print(greet(\"Alice\"))  \n",
    "\n",
    "\n",
    "\n"
   ]
  },
  {
   "cell_type": "code",
   "execution_count": 15,
   "id": "369a36e1-196a-4e50-a24d-a6d518350d67",
   "metadata": {},
   "outputs": [
    {
     "name": "stdout",
     "output_type": "stream",
     "text": [
      "Hello, Alice!\n"
     ]
    }
   ],
   "source": [
    "#Methods\n",
    "'''\n",
    "1.) Definition: Methods are functions that are defined within a class and are meant to operate on instances of that class.\n",
    "2.) Usage: Methods are called on objects (instances of classes), and the first parameter is typically self, which refers to the instance calling the method.\n",
    "3.) Scope: Methods are always associated with a class and are defined within the class body.\n",
    "'''\n",
    "#Example:\n",
    "class Greeter:\n",
    "    def __init__(self, name):\n",
    "        self.name = name\n",
    "\n",
    "    def greet(self):\n",
    "        return f\"Hello, {self.name}!\"\n",
    "\n",
    "alice = Greeter(\"Alice\")\n",
    "print(alice.greet())  "
   ]
  },
  {
   "cell_type": "code",
   "execution_count": 11,
   "id": "fded184b-17e3-49aa-adda-30dcf78f6d91",
   "metadata": {},
   "outputs": [],
   "source": [
    "#Q2). Explain the concept of function arguments and parameters in Python.\n",
    "\n",
    "#Q2). Function Arguments\n",
    "#Arguments are the actual value that are passed to the function when it is called. These values are assigned to the corresponding parameters in the function definition. \n",
    "#Example\n",
    "#greet(\"alice\")\n",
    "#In this example, \"Alice\" is an argument passed to the greet function. When the function is called, name (the parameter) is assigned the value \"Alice\".\n",
    "\n",
    "#Parameters\n",
    "#Parameters are variables listed inside the parentheses in the function definition. They act as placeholders for the values that will be passed to the function when it is called.\n",
    "#example\n",
    "def greet(name):\n",
    "    print(f'hello {name}')\n",
    "#In this example, name is a parameter of the greet function. It doesn't have a value until the function is called and a value is provided.\n"
   ]
  },
  {
   "cell_type": "code",
   "execution_count": 29,
   "id": "2a540e5c-04a1-4068-b803-a74e92cb06e5",
   "metadata": {},
   "outputs": [
    {
     "data": {
      "text/plain": [
       "'Hello jack'"
      ]
     },
     "execution_count": 29,
     "metadata": {},
     "output_type": "execute_result"
    }
   ],
   "source": [
    "#Q3). What are the different ways to define and call a function in Python?\n",
    "\n",
    "#Q3). Different ways to define and call a function in Python are:\n",
    "\n",
    "#Regular Function Definition\n",
    "#The most common way to define a function is using the def keyword.\n",
    "def greetings(name):\n",
    "    return f'Hello {name}'\n",
    "greetings('jack')"
   ]
  },
  {
   "cell_type": "code",
   "execution_count": 3,
   "id": "38478f23-02c6-408f-a17b-4dedd34434d2",
   "metadata": {},
   "outputs": [
    {
     "data": {
      "text/plain": [
       "12"
      ]
     },
     "execution_count": 3,
     "metadata": {},
     "output_type": "execute_result"
    }
   ],
   "source": [
    "#Default arugments\n",
    "#Functions can have parameters with default values.\n",
    "def sum(a,b,c):\n",
    "    return a+b+c\n",
    "sum(3,4,5)"
   ]
  },
  {
   "cell_type": "code",
   "execution_count": 5,
   "id": "4374d31d-40ce-4b20-b5cb-483917174e07",
   "metadata": {},
   "outputs": [
    {
     "data": {
      "text/plain": [
       "(1, 2, 3, 4)"
      ]
     },
     "execution_count": 5,
     "metadata": {},
     "output_type": "execute_result"
    }
   ],
   "source": [
    "#Vairable length argument\n",
    "#When you don't know the number of arguments\n",
    "def sum1(*args):\n",
    "    return args\n",
    "sum1(1,2,3,4)"
   ]
  },
  {
   "cell_type": "code",
   "execution_count": 6,
   "id": "4664e6c5-51cd-4422-bf8f-278c65d8afa9",
   "metadata": {},
   "outputs": [
    {
     "data": {
      "text/plain": [
       "((1, 2, 3, 4, 5), 'Alex')"
      ]
     },
     "execution_count": 6,
     "metadata": {},
     "output_type": "execute_result"
    }
   ],
   "source": [
    "#Variable arugment with default argument\n",
    "def test(*arg,a):\n",
    "    return arg,a\n",
    "test(1,2,3,4,5, a=\"Alex\")"
   ]
  },
  {
   "cell_type": "code",
   "execution_count": 9,
   "id": "481dc49c-3b6e-475a-98e5-76778c7895bc",
   "metadata": {},
   "outputs": [
    {
     "data": {
      "text/plain": [
       "7"
      ]
     },
     "execution_count": 9,
     "metadata": {},
     "output_type": "execute_result"
    }
   ],
   "source": [
    "#Lambda Functions\n",
    "#Lambda functions are small anonymous functions defined with the lambda keyword.\n",
    "add = lambda x,y: x+y\n",
    "add(3,4)"
   ]
  },
  {
   "cell_type": "code",
   "execution_count": 15,
   "id": "d07e9274-f6ff-438b-94a7-e851fc51612e",
   "metadata": {},
   "outputs": [
    {
     "name": "stdout",
     "output_type": "stream",
     "text": [
      "This is a\n",
      "This is a\n"
     ]
    },
    {
     "ename": "TypeError",
     "evalue": "unsupported operand type(s) for +: 'NoneType' and 'str'",
     "output_type": "error",
     "traceback": [
      "\u001b[0;31m---------------------------------------------------------------------------\u001b[0m",
      "\u001b[0;31mTypeError\u001b[0m                                 Traceback (most recent call last)",
      "Cell \u001b[0;32mIn[15], line 10\u001b[0m\n\u001b[1;32m      8\u001b[0m     \u001b[38;5;28mprint\u001b[39m(\u001b[38;5;124m\"\u001b[39m\u001b[38;5;124mThis is a\u001b[39m\u001b[38;5;124m\"\u001b[39m)\n\u001b[1;32m      9\u001b[0m func() \u001b[38;5;66;03m#Output \"This is a\"\u001b[39;00m\n\u001b[0;32m---> 10\u001b[0m \u001b[43mfunc\u001b[49m\u001b[43m(\u001b[49m\u001b[43m)\u001b[49m\u001b[43m \u001b[49m\u001b[38;5;241;43m+\u001b[39;49m\u001b[43m \u001b[49m\u001b[38;5;124;43m\"\u001b[39;49m\u001b[38;5;124;43mPython code\u001b[39;49m\u001b[38;5;124;43m\"\u001b[39;49m \u001b[38;5;66;03m#Lets try to concatenate the value of func() with this string\u001b[39;00m\n\u001b[1;32m     11\u001b[0m \u001b[38;5;66;03m#Since we didn't use return statement for retruning the output \"This is a\", therefore the output which we recieve is not a string and because of which it caused an error to concatenate it with another string.\u001b[39;00m\n",
      "\u001b[0;31mTypeError\u001b[0m: unsupported operand type(s) for +: 'NoneType' and 'str'"
     ]
    }
   ],
   "source": [
    "#Q4). What is the purpose of the `return` statement in a Python function?\n",
    "\n",
    "#A4). The Python return statement marks the end of a function and specifies the value or values to pass back from the function. Return statements can return data of any type, including integers, floats, strings, lists, dictionaries, and even other functions.\n",
    "\n",
    "#The primary purpose of the return statement is to return a value from a function. When the function is called, the return statement provides the result that can be used elsewhere in the code.\n",
    "#Synthax\n",
    "#def add(a, b):\n",
    "    #return a + b\n",
    "\n",
    "#result = add(2, 3)\n",
    "#print(result)  # Output: 5\n",
    "\n",
    "#One of the use case of return statement is that it helps returning the output as a string.\n",
    "#Using def function without the retrun statement and trying to concatenate the the func() variable with a string \n",
    "def func():\n",
    "    print(\"This is a\")\n",
    "func() #Output \"This is a\"\n",
    "func() + \"Python code\" #Lets try to concatenate the value of func() with this string\n",
    "#Since we didn't use return statement for retruning the output \"This is a\", therefore the output which we recieve is not a string and because of which it caused an error to concatenate it with another string."
   ]
  },
  {
   "cell_type": "code",
   "execution_count": 17,
   "id": "2e85ec4c-513d-4595-8325-f7b89403c716",
   "metadata": {},
   "outputs": [
    {
     "data": {
      "text/plain": [
       "'This is a Python code'"
      ]
     },
     "execution_count": 17,
     "metadata": {},
     "output_type": "execute_result"
    }
   ],
   "source": [
    "#Using return statement and then trying to concatenate it with a string\n",
    "def func1():\n",
    "    return \"This is a\"\n",
    "func1() #Output \"This is a\"\n",
    "\n",
    "func1() + \" Python code\" #Lets try to concatenate the value of func1() with this string\n",
    "#As we can see, now the value of func1() has been concatenated with the string. This is because return state helps returning the values with quotations as a string."
   ]
  },
  {
   "cell_type": "code",
   "execution_count": 19,
   "id": "e70a9529-cad4-4592-a52c-87365905e097",
   "metadata": {},
   "outputs": [
    {
     "data": {
      "text/plain": [
       "(True, False)"
      ]
     },
     "execution_count": 19,
     "metadata": {},
     "output_type": "execute_result"
    }
   ],
   "source": [
    "#Exiting a Function Early\n",
    "#The return statement can be used to exit a function before reaching the end. This is useful for terminating the function execution under certain conditions.\n",
    "def check_even(num):\n",
    "    if num%2==0:\n",
    "        return True\n",
    "    return False\n",
    "check_even(4), check_even(3)"
   ]
  },
  {
   "cell_type": "code",
   "execution_count": 20,
   "id": "64f0c21b-28f5-4e56-80c7-dca87affe317",
   "metadata": {},
   "outputs": [
    {
     "data": {
      "text/plain": [
       "{'name': 'alex', 'country': 'India', 'age': 21}"
      ]
     },
     "execution_count": 20,
     "metadata": {},
     "output_type": "execute_result"
    }
   ],
   "source": [
    "#Returning Complex Data Structures\n",
    "#The return statement can return any data type, including lists, dictionaries, and custom objects.\n",
    "def info():\n",
    "    return {\"name\": \"alex\", \"country\": \"India\", \"age\":21}\n",
    "info()"
   ]
  },
  {
   "cell_type": "code",
   "execution_count": 28,
   "id": "c401e9b2-a9d2-4321-aca4-66c4d74e6de1",
   "metadata": {},
   "outputs": [
    {
     "name": "stdout",
     "output_type": "stream",
     "text": [
      "A\n",
      "l\n",
      "i\n"
     ]
    },
    {
     "data": {
      "text/plain": [
       "<str_iterator at 0x7f7b2d6dc640>"
      ]
     },
     "execution_count": 28,
     "metadata": {},
     "output_type": "execute_result"
    }
   ],
   "source": [
    "#Q5). What are iterators in Python and how do they differ from iterables?\n",
    "\n",
    "#A5). An iterator is an object representing a stream of data and returns the data one by one. \n",
    "#Example\n",
    "s= \"Ali\" #String is iterable\n",
    "for i in s:\n",
    "    print(i)\n",
    "iter(s) #Iterator object"
   ]
  },
  {
   "cell_type": "code",
   "execution_count": 8,
   "id": "4da36d21-a7c7-4b56-8ae3-f408d69f6439",
   "metadata": {},
   "outputs": [
    {
     "name": "stdout",
     "output_type": "stream",
     "text": [
      "1\n",
      "2\n",
      "3\n"
     ]
    }
   ],
   "source": [
    "#Whereas iterable is any python object/sequential structure/data that is capable of returning its members one at a time, permetting it to be iterated over in for loop.\n",
    "#This includes most data structures in Python, such as lists, tuples, strings, dictionaries, sets, and more. An object is considered iterable if it implements the __iter__() method, which returns an iterator.\n",
    "#Example\n",
    "my_list= [1,2,3,4,5] #This is an iterable\n",
    "my_iterator= iter(my_list)\n",
    "#Using iterator to get the elements\n",
    "print(next(my_iterator))\n",
    "print(next(my_iterator))\n",
    "print(next(my_iterator))"
   ]
  },
  {
   "cell_type": "code",
   "execution_count": 19,
   "id": "52f8c76d-adbd-477a-95e8-cdfdc1597a1a",
   "metadata": {},
   "outputs": [
    {
     "data": {
      "text/plain": [
       "[0, 1, 4, 9, 16]"
      ]
     },
     "execution_count": 19,
     "metadata": {},
     "output_type": "execute_result"
    }
   ],
   "source": [
    "#Q6). Explain the concept of generators in Python and how they are defined.\n",
    "\n",
    "#A6). #Generators in Python are a special type of iterator that allow you to iterate through a sequence of values in a memory-efficient way. They are defined using a special syntax involving the yield keyword and are particularly useful for generating large sequences of values on-the-fly without storing them all in memory.\n",
    "\n",
    "#For example-\n",
    "#Writing a code using regular function\n",
    "def square(n):\n",
    "    result= []\n",
    "    for i in range(n):\n",
    "        result.append(i**2)\n",
    "    return result\n",
    "square(5)\n",
    "#Since it is returning in one go, memory usage will be more and it will take a lot of executing time if provided a lot of computation.\n",
    "#Ccomputation will be done first and then the calculation will be returned in one go."
   ]
  },
  {
   "cell_type": "code",
   "execution_count": 27,
   "id": "81ca968f-549f-40c4-982c-4ae422a434ca",
   "metadata": {},
   "outputs": [
    {
     "data": {
      "text/plain": [
       "(0, 1, 4)"
      ]
     },
     "execution_count": 27,
     "metadata": {},
     "output_type": "execute_result"
    }
   ],
   "source": [
    "#Writing a code using Yield keyword.\n",
    "#For example\n",
    "def square(n):\n",
    "    for i in range(n):\n",
    "        yield i**2 #Yield is creating a generator similar to iterator object.\n",
    "extracting_square= square(10)\n",
    "next(extracting_square), next(extracting_square), next(extracting_square)\n",
    "#General function uses 'return' statement but a generator statement uses 'yield' statement\n",
    "\n",
    "\n"
   ]
  },
  {
   "cell_type": "code",
   "execution_count": 40,
   "id": "f1086a10-831b-4ccb-9998-077071fd0a05",
   "metadata": {},
   "outputs": [
    {
     "data": {
      "text/plain": [
       "[0, 1, 2, 3, 4, 5, 6, 7, 8, 9]"
      ]
     },
     "execution_count": 40,
     "metadata": {},
     "output_type": "execute_result"
    }
   ],
   "source": [
    "#Q7). What are the advantages of using generators over regular functions?\n",
    "\n",
    "#A7). Advantages of using generator over regular functions are:\n",
    "\n",
    "#Memory Efficiency\n",
    "\n",
    "#A regular function will calculate the value of a particular function and will return it in one go, which will cause more memory usage and will take a lot of execution time if the provided computation is a lot.\n",
    "#Regular function\n",
    "#For example\n",
    "def create_large_list(n):\n",
    "    return [i for i in range(n)]\n",
    "create_large_list(10)"
   ]
  },
  {
   "cell_type": "code",
   "execution_count": 39,
   "id": "614b7a1e-6324-4ce6-b3cd-965f1006b0f8",
   "metadata": {},
   "outputs": [
    {
     "data": {
      "text/plain": [
       "(0, 1)"
      ]
     },
     "execution_count": 39,
     "metadata": {},
     "output_type": "execute_result"
    }
   ],
   "source": [
    "#Whereas generators are more efficient than traditional loops for data processing or calculations, as they produce values one at a time instead of storing them in memory before returning them.\n",
    "#Generator function\n",
    "#For example\n",
    "def create_large_generator(n):\n",
    "    for i in range(n):\n",
    "        yield i\n",
    "gen= create_large_generator(10)\n",
    "next(gen),next(gen)"
   ]
  },
  {
   "cell_type": "code",
   "execution_count": 38,
   "id": "073f6345-ae21-48dd-b87c-9e2ccb5c66aa",
   "metadata": {},
   "outputs": [
    {
     "name": "stdout",
     "output_type": "stream",
     "text": [
      "[0, 1, 1, 2, 3, 5, 8, 13, 21, 34, 55, 89, 144, 233, 377, 610, 987]\n"
     ]
    }
   ],
   "source": [
    "#Improved Performance\n",
    "\n",
    "#Regular function may involve additional overhead due to the creation and management of large collections.\n",
    "#Regular function\n",
    "#For example\n",
    "def fibonacci_series(limit):\n",
    "    series = []\n",
    "    a, b = 0, 1\n",
    "    while a <= limit:\n",
    "        series.append(a)\n",
    "        a, b = b, a + b\n",
    "    return series\n",
    "fib_series = fibonacci_series(1000)\n",
    "print(fib_series)"
   ]
  },
  {
   "cell_type": "code",
   "execution_count": 37,
   "id": "2f868f68-87e8-446a-a7aa-ce2e09cb9db4",
   "metadata": {},
   "outputs": [
    {
     "name": "stdout",
     "output_type": "stream",
     "text": [
      "0\n",
      "1\n",
      "1\n",
      "2\n",
      "3\n",
      "5\n",
      "8\n",
      "13\n",
      "21\n",
      "34\n",
      "55\n",
      "89\n",
      "144\n",
      "233\n",
      "377\n",
      "610\n",
      "987\n"
     ]
    }
   ],
   "source": [
    "#While Generators can improve performance in terms of both speed and memory usage and Reduce the need for intermediate storage and allow for more efficient looping.\n",
    "#Generator function \n",
    "#For example\n",
    "# Generator example\n",
    "def fibonacci(limit):\n",
    "    a, b = 0, 1\n",
    "    while a < limit:\n",
    "        yield a\n",
    "        a, b = b, a + b\n",
    "for num in fibonacci(1000):\n",
    "    print(num)"
   ]
  },
  {
   "cell_type": "code",
   "execution_count": null,
   "id": "2f913de4-c013-4c38-b035-5f12da0167f8",
   "metadata": {},
   "outputs": [],
   "source": [
    "#Simplified Code for Infinite Sequences\n",
    "\n",
    "#Regular functions cannot return infinite sequences directly, as they need to return a collection that holds all values in memory.\n",
    "\n",
    "#While generators simplify the implementation of functions that produce infinite sequences, as they can yield values indefinitely.\n",
    "#Generator function\n",
    "#For example\n",
    "def infinite_counter():\n",
    "    num = 0\n",
    "    while True:\n",
    "        yield num\n",
    "        num += 1\n",
    "counter = infinite_counter()\n",
    "print(next(counter))  \n",
    "print(next(counter))  \n",
    "print(next(counter))  "
   ]
  },
  {
   "cell_type": "code",
   "execution_count": 42,
   "id": "bb06eedd-53ea-451a-b4c5-5f959832a0ca",
   "metadata": {},
   "outputs": [
    {
     "data": {
      "text/plain": [
       "4"
      ]
     },
     "execution_count": 42,
     "metadata": {},
     "output_type": "execute_result"
    }
   ],
   "source": [
    "#Q8). What is a lambda function in Python and when is it typically used?\n",
    "\n",
    "#A8). A lambda function in Python is a small, anonymous function defined using the lambda keyword. It can have any number of input parameters but only one expression. The expression is evaluated and returned when the lambda function is called.\n",
    "#Example\n",
    "add = lambda x,y : x+y\n",
    "add(2,2)"
   ]
  },
  {
   "cell_type": "markdown",
   "id": "34163a82-d863-4923-af9e-0185d3610050",
   "metadata": {},
   "source": [
    "### Typical uses of lambda functions are\n",
    "\n"
   ]
  },
  {
   "cell_type": "code",
   "execution_count": 50,
   "id": "edd9132b-caa8-48d3-9f5f-b96d710191fb",
   "metadata": {},
   "outputs": [
    {
     "data": {
      "text/plain": [
       "['max', 'paris', 'london', 'alaxander']"
      ]
     },
     "execution_count": 50,
     "metadata": {},
     "output_type": "execute_result"
    }
   ],
   "source": [
    "#Sorting \n",
    "l = [\"alaxander\", \"max\", \"paris\", \"london\"]\n",
    "sorted(l, key= lambda l:len(l))"
   ]
  },
  {
   "cell_type": "code",
   "execution_count": 51,
   "id": "913a4352-400b-497e-8470-c997fdd1a426",
   "metadata": {},
   "outputs": [
    {
     "data": {
      "text/plain": [
       "[1, 4, 9, 16, 25]"
      ]
     },
     "execution_count": 51,
     "metadata": {},
     "output_type": "execute_result"
    }
   ],
   "source": [
    "#Mapping\n",
    "l = [1,2,3,4,5]\n",
    "list(map(lambda l: l**2,l))"
   ]
  },
  {
   "cell_type": "code",
   "execution_count": 52,
   "id": "00d00180-c55c-475a-8e72-c7b588cecd05",
   "metadata": {},
   "outputs": [
    {
     "data": {
      "text/plain": [
       "[2, 4]"
      ]
     },
     "execution_count": 52,
     "metadata": {},
     "output_type": "execute_result"
    }
   ],
   "source": [
    "#Filtering\n",
    "l = [1,2,3,4,5]\n",
    "list(filter(lambda l:l%2==0, l))"
   ]
  },
  {
   "cell_type": "code",
   "execution_count": 53,
   "id": "faeb7c6a-bcfc-4990-9bfa-1aefbcd07fb8",
   "metadata": {},
   "outputs": [
    {
     "data": {
      "text/plain": [
       "21"
      ]
     },
     "execution_count": 53,
     "metadata": {},
     "output_type": "execute_result"
    }
   ],
   "source": [
    "#Reducing\n",
    "from functools import reduce\n",
    "l = [1,2,3,4,5,6]\n",
    "reduce(lambda x,y: x+y,l)"
   ]
  },
  {
   "cell_type": "code",
   "execution_count": 2,
   "id": "88bb4298-fa14-4eda-a671-91c559c585bb",
   "metadata": {},
   "outputs": [
    {
     "data": {
      "text/plain": [
       "[1, 4, 9, 16, 25]"
      ]
     },
     "execution_count": 2,
     "metadata": {},
     "output_type": "execute_result"
    }
   ],
   "source": [
    "#Q9). Explain the purpose and usage of the `map()` function in Python.\n",
    "\n",
    "#A9). The 'map()' function in Python is used to apply a given function to all items in an input list (or any other iterable), and it returns a map object (an iterator) of the results.\n",
    "#Example Usage\n",
    "\n",
    "#Applying a Function to a List\n",
    "def square(x):\n",
    "    return x**2\n",
    "numbers = [1,2,3,4,5]\n",
    "list(map(square,numbers))\n"
   ]
  },
  {
   "cell_type": "code",
   "execution_count": 3,
   "id": "d20f1f65-4dca-43dd-a2f2-f0e56320d3b0",
   "metadata": {},
   "outputs": [
    {
     "data": {
      "text/plain": [
       "[1, 4, 9, 16, 25]"
      ]
     },
     "execution_count": 3,
     "metadata": {},
     "output_type": "execute_result"
    }
   ],
   "source": [
    "#Using a Lambda Function with map()\n",
    "number = [1,2,3,4,5]\n",
    "list(map(lambda x : x**2, number))"
   ]
  },
  {
   "cell_type": "code",
   "execution_count": 5,
   "id": "42ebb86a-862c-461f-ad5f-aae872031168",
   "metadata": {},
   "outputs": [
    {
     "data": {
      "text/plain": [
       "[101, 202, 303, 404]"
      ]
     },
     "execution_count": 5,
     "metadata": {},
     "output_type": "execute_result"
    }
   ],
   "source": [
    "#Mapping Multiple Iterables\n",
    "def add(x,y):\n",
    "    return x+y\n",
    "number1 = [1,2,3,4]\n",
    "number2 = [100,200,300,400]\n",
    "list(map(add, number1, number2))"
   ]
  },
  {
   "cell_type": "code",
   "execution_count": 6,
   "id": "f5c798ee-be94-430e-9933-bb11273079cc",
   "metadata": {},
   "outputs": [],
   "source": [
    "#Q10). What is the difference between `map()`, `reduce()`, and `filter()` functions in Python?\n",
    "\n",
    "#A10). In Python, map(), reduce(), and filter() are functional programming tools that allow you to apply functions to sequences (like lists, tuples, etc.). Each function serves a different purpose and has its own distinct behavior. "
   ]
  },
  {
   "cell_type": "markdown",
   "id": "db870a02-56ec-4a09-8152-595f9b6836a9",
   "metadata": {},
   "source": [
    "### 'map()'"
   ]
  },
  {
   "cell_type": "code",
   "execution_count": 9,
   "id": "b0b38466-6059-4478-9719-2b05b406d575",
   "metadata": {},
   "outputs": [
    {
     "data": {
      "text/plain": [
       "[1, 4, 9, 16, 25]"
      ]
     },
     "execution_count": 9,
     "metadata": {},
     "output_type": "execute_result"
    }
   ],
   "source": [
    "#Purpose:\n",
    "#'map()' applies a given function to all items in an input iterable (like a list) and returns a map object (which is an iterator).\n",
    "def square(x):\n",
    "    return x**2\n",
    "numbers = [1,2,3,4,5]\n",
    "list(map(square,numbers))    "
   ]
  },
  {
   "cell_type": "code",
   "execution_count": 11,
   "id": "bdcd7d30-e6e5-4e4d-ad99-ea83f2077159",
   "metadata": {},
   "outputs": [
    {
     "data": {
      "text/plain": [
       "[1, 2, 3, 4]"
      ]
     },
     "execution_count": 11,
     "metadata": {},
     "output_type": "execute_result"
    }
   ],
   "source": [
    "#Converting strings to integers\n",
    "s = ['1', '2', '3', '4'] \n",
    "list(map(int,s))\n",
    "#Transforming data elements, such as converting strings to integers, squaring numbers, or applying any other function to each element of a list."
   ]
  },
  {
   "cell_type": "markdown",
   "id": "9bafda64-aa8e-4cf0-b776-45f1e536987d",
   "metadata": {},
   "source": [
    "### 'filter()'"
   ]
  },
  {
   "cell_type": "code",
   "execution_count": 13,
   "id": "12879758-365c-4cd0-a326-0156b0971e1f",
   "metadata": {},
   "outputs": [
    {
     "data": {
      "text/plain": [
       "[2, 4, 6, 8, 10]"
      ]
     },
     "execution_count": 13,
     "metadata": {},
     "output_type": "execute_result"
    }
   ],
   "source": [
    "#Purpose:\n",
    "#filter() constructs an iterator from elements of an iterable for which a function returns True.\n",
    "def is_even(x):\n",
    "    return x%2 == 0\n",
    "number= [1,2,3,4,5,6,7,8,10]\n",
    "list(filter(is_even, number))"
   ]
  },
  {
   "cell_type": "code",
   "execution_count": 25,
   "id": "a7792425-f3fa-498f-acc2-eab77d9c2e15",
   "metadata": {},
   "outputs": [
    {
     "data": {
      "text/plain": [
       "[-1, -2, -3, -4]"
      ]
     },
     "execution_count": 25,
     "metadata": {},
     "output_type": "execute_result"
    }
   ],
   "source": [
    "def is_positive(y):\n",
    "     if y<0:\n",
    "            return y  \n",
    "number=[-1,-2,-3,-4, 5,6,7,8]\n",
    "list(filter(is_positive, number))\n",
    "#Filtering data elements based on a condition, such as extracting even numbers, filtering out None values, or any other conditional filtering."
   ]
  },
  {
   "cell_type": "markdown",
   "id": "fbdc2a9c-7cab-48d4-9c7a-c7a64a7381c5",
   "metadata": {},
   "source": [
    "### 'reduce()'"
   ]
  },
  {
   "cell_type": "code",
   "execution_count": 28,
   "id": "a7544d23-1c64-44c6-a1db-428e3e16fda0",
   "metadata": {},
   "outputs": [
    {
     "data": {
      "text/plain": [
       "15"
      ]
     },
     "execution_count": 28,
     "metadata": {},
     "output_type": "execute_result"
    }
   ],
   "source": [
    "#Purpose:\n",
    "#reduce() applies a rolling computation to sequential pairs of values in an iterable, reducing the iterable to a single cumulative value. It's part of the functools module.\n",
    "\n",
    "from functools import reduce\n",
    "def add(x,y):\n",
    "    return x+y\n",
    "numbers = [1,2,3,4,5]\n",
    "reduce(add,numbers)"
   ]
  },
  {
   "cell_type": "code",
   "execution_count": 29,
   "id": "5f1a6319-8830-4438-9fea-a3dea4c93485",
   "metadata": {},
   "outputs": [
    {
     "data": {
      "text/plain": [
       "120"
      ]
     },
     "execution_count": 29,
     "metadata": {},
     "output_type": "execute_result"
    }
   ],
   "source": [
    "def multipy(a,b):\n",
    "    return a*b\n",
    "number= [1,2,3,4,5]\n",
    "reduce(multipy,number)\n",
    "#Cumulative operations such as summing a list of numbers, finding the product of all elements, or any other aggregation where elements are combined."
   ]
  },
  {
   "cell_type": "code",
   "execution_count": null,
   "id": "fd824a3e-4328-49f6-8222-1a3483e3eef7",
   "metadata": {},
   "outputs": [],
   "source": [
    "#Q11). Using pen & Paper write the internal mechanism for sum operation using reduce function on this given list:[47,11,42,13];\n",
    "#A11). Answer attached in doc."
   ]
  },
  {
   "cell_type": "markdown",
   "id": "11bc1b6f-fec8-481a-aa62-359564c1d31f",
   "metadata": {},
   "source": [
    "# Practical Questions"
   ]
  },
  {
   "cell_type": "code",
   "execution_count": 18,
   "id": "4c293615-7390-4aa2-98cd-0ba53a3962e1",
   "metadata": {},
   "outputs": [
    {
     "name": "stdout",
     "output_type": "stream",
     "text": [
      "The sum of even numbers are: 30\n"
     ]
    }
   ],
   "source": [
    "#Q1). Write a Python function that takes a list of numbers as input and returns the sum of all even numbers in the list.\n",
    "\n",
    "#A1).\n",
    "def list_of_numbers(n):\n",
    "    total = 0\n",
    "    for num in n:\n",
    "        if num%2 == 0:\n",
    "            total += num\n",
    "    return total\n",
    "n = [1,2,3,4,5,6,7,8,9,10]\n",
    "result = list_of_numbers(n)\n",
    "print(\"The sum of even numbers are:\", result)"
   ]
  },
  {
   "cell_type": "code",
   "execution_count": 27,
   "id": "8ea6ab49-61fd-4d4a-922e-aa5e7c68504b",
   "metadata": {},
   "outputs": [
    {
     "data": {
      "text/plain": [
       "'edoc nohtyp tsrif yM'"
      ]
     },
     "execution_count": 27,
     "metadata": {},
     "output_type": "execute_result"
    }
   ],
   "source": [
    "#Q2). Create a Python function that accepts a string and returns the reverse of that string.\n",
    "\n",
    "#A2). \n",
    "def Reverse_string(s):\n",
    "    return s[::-1]\n",
    "Reverse_string('My first python code')"
   ]
  },
  {
   "cell_type": "code",
   "execution_count": 29,
   "id": "128712ed-b1ab-4126-aaae-f4e58245f048",
   "metadata": {
    "tags": []
   },
   "outputs": [
    {
     "data": {
      "text/plain": [
       "[1, 4, 9, 16, 25, 36]"
      ]
     },
     "execution_count": 29,
     "metadata": {},
     "output_type": "execute_result"
    }
   ],
   "source": [
    "#Q3). Implement a Python function that takes a list of integers and returns a new list containing the squares of each number.\n",
    "\n",
    "#A3).\n",
    "def square(n):\n",
    "    result = []\n",
    "    for i in n:\n",
    "        result.append(i**2)\n",
    "    return result\n",
    "square([1,2,3,4,5,6])"
   ]
  },
  {
   "cell_type": "code",
   "execution_count": 38,
   "id": "9124ba9b-f6c0-483e-ae06-38f04d3de984",
   "metadata": {
    "tags": []
   },
   "outputs": [
    {
     "name": "stdout",
     "output_type": "stream",
     "text": [
      "1 is not prime\n",
      "2 is prime\n",
      "3 is prime\n",
      "4 is not prime\n",
      "5 is prime\n",
      "6 is not prime\n",
      "7 is prime\n",
      "8 is not prime\n",
      "9 is not prime\n",
      "10 is not prime\n",
      "11 is prime\n",
      "12 is not prime\n",
      "13 is prime\n",
      "14 is not prime\n",
      "15 is not prime\n",
      "16 is not prime\n",
      "17 is prime\n",
      "18 is not prime\n",
      "19 is prime\n",
      "20 is not prime\n",
      "21 is not prime\n",
      "22 is not prime\n",
      "23 is prime\n",
      "24 is not prime\n",
      "25 is not prime\n",
      "26 is not prime\n",
      "27 is not prime\n",
      "28 is not prime\n",
      "29 is prime\n",
      "30 is not prime\n",
      "31 is prime\n",
      "32 is not prime\n",
      "33 is not prime\n",
      "34 is not prime\n",
      "35 is not prime\n",
      "36 is not prime\n",
      "37 is prime\n",
      "38 is not prime\n",
      "39 is not prime\n",
      "40 is not prime\n",
      "41 is prime\n",
      "42 is not prime\n",
      "43 is prime\n",
      "44 is not prime\n",
      "45 is not prime\n",
      "46 is not prime\n",
      "47 is prime\n",
      "48 is not prime\n",
      "49 is not prime\n",
      "50 is not prime\n",
      "51 is not prime\n",
      "52 is not prime\n",
      "53 is prime\n",
      "54 is not prime\n",
      "55 is not prime\n",
      "56 is not prime\n",
      "57 is not prime\n",
      "58 is not prime\n",
      "59 is prime\n",
      "60 is not prime\n",
      "61 is prime\n",
      "62 is not prime\n",
      "63 is not prime\n",
      "64 is not prime\n",
      "65 is not prime\n",
      "66 is not prime\n",
      "67 is prime\n",
      "68 is not prime\n",
      "69 is not prime\n",
      "70 is not prime\n",
      "71 is prime\n",
      "72 is not prime\n",
      "73 is prime\n",
      "74 is not prime\n",
      "75 is not prime\n",
      "76 is not prime\n",
      "77 is not prime\n",
      "78 is not prime\n",
      "79 is prime\n",
      "80 is not prime\n",
      "81 is not prime\n",
      "82 is not prime\n",
      "83 is prime\n",
      "84 is not prime\n",
      "85 is not prime\n",
      "86 is not prime\n",
      "87 is not prime\n",
      "88 is not prime\n",
      "89 is prime\n",
      "90 is not prime\n",
      "91 is not prime\n",
      "92 is not prime\n",
      "93 is not prime\n",
      "94 is not prime\n",
      "95 is not prime\n",
      "96 is not prime\n",
      "97 is prime\n",
      "98 is not prime\n",
      "99 is not prime\n",
      "100 is not prime\n",
      "101 is prime\n",
      "102 is not prime\n",
      "103 is prime\n",
      "104 is not prime\n",
      "105 is not prime\n",
      "106 is not prime\n",
      "107 is prime\n",
      "108 is not prime\n",
      "109 is prime\n",
      "110 is not prime\n",
      "111 is not prime\n",
      "112 is not prime\n",
      "113 is prime\n",
      "114 is not prime\n",
      "115 is not prime\n",
      "116 is not prime\n",
      "117 is not prime\n",
      "118 is not prime\n",
      "119 is not prime\n",
      "120 is not prime\n",
      "121 is not prime\n",
      "122 is not prime\n",
      "123 is not prime\n",
      "124 is not prime\n",
      "125 is not prime\n",
      "126 is not prime\n",
      "127 is prime\n",
      "128 is not prime\n",
      "129 is not prime\n",
      "130 is not prime\n",
      "131 is prime\n",
      "132 is not prime\n",
      "133 is not prime\n",
      "134 is not prime\n",
      "135 is not prime\n",
      "136 is not prime\n",
      "137 is prime\n",
      "138 is not prime\n",
      "139 is prime\n",
      "140 is not prime\n",
      "141 is not prime\n",
      "142 is not prime\n",
      "143 is not prime\n",
      "144 is not prime\n",
      "145 is not prime\n",
      "146 is not prime\n",
      "147 is not prime\n",
      "148 is not prime\n",
      "149 is prime\n",
      "150 is not prime\n",
      "151 is prime\n",
      "152 is not prime\n",
      "153 is not prime\n",
      "154 is not prime\n",
      "155 is not prime\n",
      "156 is not prime\n",
      "157 is prime\n",
      "158 is not prime\n",
      "159 is not prime\n",
      "160 is not prime\n",
      "161 is not prime\n",
      "162 is not prime\n",
      "163 is prime\n",
      "164 is not prime\n",
      "165 is not prime\n",
      "166 is not prime\n",
      "167 is prime\n",
      "168 is not prime\n",
      "169 is not prime\n",
      "170 is not prime\n",
      "171 is not prime\n",
      "172 is not prime\n",
      "173 is prime\n",
      "174 is not prime\n",
      "175 is not prime\n",
      "176 is not prime\n",
      "177 is not prime\n",
      "178 is not prime\n",
      "179 is prime\n",
      "180 is not prime\n",
      "181 is prime\n",
      "182 is not prime\n",
      "183 is not prime\n",
      "184 is not prime\n",
      "185 is not prime\n",
      "186 is not prime\n",
      "187 is not prime\n",
      "188 is not prime\n",
      "189 is not prime\n",
      "190 is not prime\n",
      "191 is prime\n",
      "192 is not prime\n",
      "193 is prime\n",
      "194 is not prime\n",
      "195 is not prime\n",
      "196 is not prime\n",
      "197 is prime\n",
      "198 is not prime\n",
      "199 is prime\n",
      "200 is not prime\n"
     ]
    }
   ],
   "source": [
    "#Q4). Write a Python function that checks if a given number is prime or not from 1 to 200.\n",
    "\n",
    "#A4). \n",
    "def prime(n):\n",
    "    if n <= 1:\n",
    "        return False\n",
    "    for i in range(2,n):\n",
    "        if n%i== 0:\n",
    "            return False \n",
    "    return True\n",
    "for num in range(1,201):\n",
    "    if prime(num):\n",
    "        print(f\"{num} is prime\")\n",
    "    else:\n",
    "        print(f\"{num} is not prime\")"
   ]
  },
  {
   "cell_type": "code",
   "execution_count": 15,
   "id": "8a24a096-b0b7-4aa2-97a0-11b5368abbbd",
   "metadata": {},
   "outputs": [
    {
     "name": "stdout",
     "output_type": "stream",
     "text": [
      "[0, 1, 1, 2, 3, 5, 8, 13, 21, 34, 55, 89, 144, 233, 377]\n"
     ]
    }
   ],
   "source": [
    "#Q5). Create an iterator class in Python that generates the Fibonacci sequence up to a specified number of terms.\n",
    "\n",
    "#A5). \n",
    "def fib(n):\n",
    "    if n <=1:\n",
    "        return n\n",
    "    a, b = 0,1\n",
    "    for i in range(2, n+  1):\n",
    "        a, b = b, a + b\n",
    "    return b        \n",
    "fib_sequence = [fib(i) for i in range(15)]\n",
    "print(fib_sequence)"
   ]
  },
  {
   "cell_type": "code",
   "execution_count": 7,
   "id": "b0722c43-613a-44f2-b9f1-74113b8e94b2",
   "metadata": {},
   "outputs": [
    {
     "name": "stdout",
     "output_type": "stream",
     "text": [
      "0\n",
      "1\n",
      "4\n",
      "9\n",
      "16\n",
      "25\n",
      "36\n",
      "49\n",
      "64\n",
      "81\n",
      "100\n"
     ]
    }
   ],
   "source": [
    "#Q6). Write a generator function in Python that yields the powers of 2 up to a given exponent\n",
    "\n",
    "#A6). \n",
    "def power_of_2(n):\n",
    "    for i in range(n + 1):\n",
    "        yield i ** 2\n",
    "for power in power_of_2(10):\n",
    "    print(power)"
   ]
  },
  {
   "cell_type": "code",
   "execution_count": 6,
   "id": "001f5861-1c33-40c8-8f91-43ec54d64171",
   "metadata": {},
   "outputs": [
    {
     "name": "stdout",
     "output_type": "stream",
     "text": [
      "Hello, world!\n",
      "This is a sample file.\n",
      "It contains multiple lines.\n",
      "Each line will be read separately.\n"
     ]
    }
   ],
   "source": [
    "#Q7). Implement a generator function that reads a file line by line and yields each line as a string.\n",
    "\n",
    "#A7).\n",
    "sample_content = \"\"\"Hello, world!\n",
    "This is a sample file.\n",
    "It contains multiple lines.\n",
    "Each line will be read separately.\"\"\"\n",
    "with open('sample.txt', 'w') as file:\n",
    "    file.write(sample_content)\n",
    "def read_file_line_by_line(file_path):\n",
    "    with open(file_path, 'r') as file:\n",
    "        for line in file:\n",
    "            yield line.strip()\n",
    "for line in read_file_line_by_line('sample.txt'):\n",
    "    print(line)"
   ]
  },
  {
   "cell_type": "code",
   "execution_count": 30,
   "id": "64917c31-ea44-4b39-a7a4-b3fe67ef6ea9",
   "metadata": {},
   "outputs": [
    {
     "name": "stdout",
     "output_type": "stream",
     "text": [
      "[(5, 0), (6, 1), (4, 2), (1, 3), (2, 4)]\n"
     ]
    }
   ],
   "source": [
    "#Q8). Use a lambda function in Python to sort a list of tuples based on the second element of each tuple.\n",
    "\n",
    "#A8).\n",
    "list_of_tuples = [(1, 3), (4, 2), (6, 1), (2, 4), (5, 0)]\n",
    "sorted_list = sorted(list_of_tuples, key = lambda x:x[1])\n",
    "print(sorted_list)"
   ]
  },
  {
   "cell_type": "code",
   "execution_count": 31,
   "id": "1e8e1ffd-bcfc-4cb4-8004-0c7d06a357a8",
   "metadata": {},
   "outputs": [
    {
     "name": "stdout",
     "output_type": "stream",
     "text": [
      "[32.0, 68.0, 98.6, 212.0]\n"
     ]
    }
   ],
   "source": [
    "#Q9). Write a Python program that uses `map()` to convert a list of temperatures from Celsius to Fahrenheit.\n",
    "\n",
    "#A9). \n",
    "def celsius_to_fahrenheit(celsius):\n",
    "    return (celsius* 9/5)+ 32\n",
    "celsius_temperature= [0, 20, 37, 100]\n",
    "fahrenheit_temperature= list(map(celsius_to_fahrenheit, celsius_temperature))\n",
    "print(fahrenheit_temperature)"
   ]
  },
  {
   "cell_type": "code",
   "execution_count": 41,
   "id": "19e4ec7c-9142-4017-a9aa-e0ae77e09304",
   "metadata": {},
   "outputs": [
    {
     "name": "stdout",
     "output_type": "stream",
     "text": [
      "['T', 'h', 's', ' ', 's', ' ', 'n', ' ', 'x', 'm', 'p', 'l', ' ', 's', 't', 'r', 'n', 'g', '.']\n"
     ]
    }
   ],
   "source": [
    "#Q10). Create a Python program that uses `filter()` to remove all the vowels from a given string.\n",
    "input_string= \"This is an example string.\"\n",
    "vowels= 'aeiouAEIOU'\n",
    "filtered_list= [char for char in input_string if char not in vowels]\n",
    "filtering_string= \"\".join(filtered_list)\n",
    "print(filtering_list)\n"
   ]
  },
  {
   "cell_type": "code",
   "execution_count": 5,
   "id": "88a899d2-8a50-416e-a6ca-caa09b6c18c7",
   "metadata": {},
   "outputs": [
    {
     "name": "stdout",
     "output_type": "stream",
     "text": [
      "[(34587, 163.8), (98762, 284.0), (77226, 108.85000000000001), (88112, 84.97)]\n"
     ]
    }
   ],
   "source": [
    "'''Q11). Write a Python program, which returns a list with 2-tuples. Each tuple consists of the order number and the \n",
    "product of the price per item and the quantity. The product should be increased by 10,- € if the value of the \n",
    "order is smaller than 100,00 €.\n",
    "Write a Python program using lambda and map.'''\n",
    "\n",
    "#A11). \n",
    "orders = [ \n",
    "     [34587, \"Learning Python, Mark Lutz\", 4, 40.95],\n",
    "    [98762, \"Programming Python, Mark Lutz\", 5, 56.80],\n",
    "    [77226, \"Head First Python, Paul Barry\", 3, 32.95],\n",
    "    [88112, \"Einführung in Python3, Bernd Klein\", 3, 24.99]\n",
    "]\n",
    "process_order= lambda order: (order[0], order[2] * order[3] + 10 if order[2] * order[3] <100 else order[2] * order[3])\n",
    "processed_order= list(map(process_order,orders))\n",
    "print(processed_order)"
   ]
  }
 ],
 "metadata": {
  "kernelspec": {
   "display_name": "Python 3 (ipykernel)",
   "language": "python",
   "name": "python3"
  },
  "language_info": {
   "codemirror_mode": {
    "name": "ipython",
    "version": 3
   },
   "file_extension": ".py",
   "mimetype": "text/x-python",
   "name": "python",
   "nbconvert_exporter": "python",
   "pygments_lexer": "ipython3",
   "version": "3.10.8"
  }
 },
 "nbformat": 4,
 "nbformat_minor": 5
}
