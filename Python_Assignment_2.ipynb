{
 "cells": [
  {
   "cell_type": "markdown",
   "id": "6355ea54-f759-453e-8d98-0d8406a5f1d7",
   "metadata": {},
   "source": [
    "# Assignment- 2"
   ]
  },
  {
   "cell_type": "code",
   "execution_count": 4,
   "id": "bdb86755-b037-483e-819f-3fd94fefbdad",
   "metadata": {},
   "outputs": [
    {
     "data": {
      "text/plain": [
       "'good student'"
      ]
     },
     "execution_count": 4,
     "metadata": {},
     "output_type": "execute_result"
    }
   ],
   "source": [
    "#Q1). Discuss string slicing and provide examples.\n",
    "\n",
    "#A1). String slicing in Python allows you to extract a portion of a string by specifying a start and end index. It follows the format string[start:end], where start is the index where slicing begins (inclusive) and end is the index where it ends (exclusive).\n",
    "\n",
    "#For Example\n",
    "str1 = \"I am a good student\"\n",
    "#For instance, if I want to extract or slice a specific part of the string, for example, 'good student', I can follow these following stpes.\n",
    "str1[7:]"
   ]
  },
  {
   "cell_type": "code",
   "execution_count": 5,
   "id": "6f5b066e-e2f7-4f21-bcaf-e1e65dab5d2a",
   "metadata": {},
   "outputs": [
    {
     "data": {
      "text/plain": [
       "'I am'"
      ]
     },
     "execution_count": 5,
     "metadata": {},
     "output_type": "execute_result"
    }
   ],
   "source": [
    "#Another example\n",
    "#Now lets suppose if I want to extract 'I am'.\n",
    "str1[0:4]"
   ]
  },
  {
   "cell_type": "code",
   "execution_count": 7,
   "id": "434654a7-b619-4443-91d3-b796a03b3898",
   "metadata": {},
   "outputs": [
    {
     "data": {
      "text/plain": [
       "'ent'"
      ]
     },
     "execution_count": 7,
     "metadata": {},
     "output_type": "execute_result"
    }
   ],
   "source": [
    "#If I want to extract only the last three elements of the string then I can follow these next steps.\n",
    "str1[-3:]"
   ]
  },
  {
   "cell_type": "code",
   "execution_count": 9,
   "id": "e2e9925a-035b-4d0c-8a1d-29e34576e8ff",
   "metadata": {},
   "outputs": [],
   "source": [
    "#Q2.) Explain the key features of lists in Python.\n",
    "\n",
    "#A2.) Features of List are:- \n",
    "#1.) They are mutable. That means the values stored inside the list can be mutated or changed according to our needs.\n",
    "#2.) They are heterogeneous. That means a list can store any type of data inside it. For example. mylis= [1, 2.2, True, 3+5j, \"alex\"].\n",
    "#3.) They are ordered collection of items.\n",
    "#4.) List elements can be accessed by index.\n",
    "#5.) List can be nested. "
   ]
  },
  {
   "cell_type": "code",
   "execution_count": 13,
   "id": "a2d01c48-b71c-4b3b-9f21-62cc71077dd6",
   "metadata": {},
   "outputs": [
    {
     "data": {
      "text/plain": [
       "('john', 'o')"
      ]
     },
     "execution_count": 13,
     "metadata": {},
     "output_type": "execute_result"
    }
   ],
   "source": [
    "#Q3.) Describe how to access, modify, and delete elements in a list with examples.\n",
    "\n",
    "#A3.) Since list is mutable, accessing, modifying and deleting elements is very simple. All the elements or items inside are indexed and with the help of index numbers, we can modify, access or delete the elements.\n",
    "#For Example.\n",
    "my_list= [\"Alex\", 1, 2.5, True, 9+4j, \"john\"]\n",
    "#Accessing the elements from my_list.\n",
    "#Now lets suppose if I want to access the name 'john', I would simply follow the index number the name 'john' is on and I would call that index number in order to access that element.\n",
    "my_list[5] #This will print the name \"john\"\n",
    "#With the help of indexing, I can also access the individual value in 'john' \n",
    "my_list[5], my_list[5][1]"
   ]
  },
  {
   "cell_type": "code",
   "execution_count": 14,
   "id": "aeb1dafd-b54d-4ee2-a3f5-5089e78d842b",
   "metadata": {},
   "outputs": [
    {
     "data": {
      "text/plain": [
       "['max', 1, 2.5, True, (9+4j), 'john']"
      ]
     },
     "execution_count": 14,
     "metadata": {},
     "output_type": "execute_result"
    }
   ],
   "source": [
    "#Modifying the elements in my_list.\n",
    "my_list= [\"Alex\", 1, 2.5, True, 9+4j, \"john\"]\n",
    "#Now lets suppose if I want to modify the name \"Alex\" to \"max\", then I will follow these steps.\n",
    "my_list[0] = \"max\"\n",
    "my_list"
   ]
  },
  {
   "cell_type": "code",
   "execution_count": 15,
   "id": "991d4c39-0ed3-4bde-a66c-0b578560abe4",
   "metadata": {},
   "outputs": [
    {
     "data": {
      "text/plain": [
       "['max', 1, 2.5, True, (9+4j), 'john', 1000]"
      ]
     },
     "execution_count": 15,
     "metadata": {},
     "output_type": "execute_result"
    }
   ],
   "source": [
    "#Now lets suppose if I want to add a new element inside the list, then I will follow these next steps.\n",
    "my_list.append(1000)\n",
    "my_list"
   ]
  },
  {
   "cell_type": "code",
   "execution_count": 21,
   "id": "8563438b-1d3f-497b-ae20-f83c4c60b309",
   "metadata": {},
   "outputs": [
    {
     "data": {
      "text/plain": [
       "['a', 'alex']"
      ]
     },
     "execution_count": 21,
     "metadata": {},
     "output_type": "execute_result"
    }
   ],
   "source": [
    "#Deleting the elements from the list.\n",
    "list1 = [ \"a\", 2.5, \"alex\", True]\n",
    "#Now lets suppose if I want to delete the boolean value True fron the list, then I will follow these steps.\n",
    "list1.pop()\n",
    "#This is one of the ways of deleting an element from the list.\n",
    "#Using only pop(), allows us to remove an element from the list that lies at the very end of the list, and by executing this line of code, it automatically deletes the element that is ot the end of the list.\n",
    "#Now lets try removing the float number 2.5\n",
    "list1.pop(1)\n",
    "list1\n",
    "#As we can see, that both, True and 2.5 have been removed from the list using the pop() feature."
   ]
  },
  {
   "cell_type": "code",
   "execution_count": 22,
   "id": "58fb6e50-4778-42f4-819f-3fc5a995bc1b",
   "metadata": {},
   "outputs": [
    {
     "data": {
      "text/plain": [
       "['alex']"
      ]
     },
     "execution_count": 22,
     "metadata": {},
     "output_type": "execute_result"
    }
   ],
   "source": [
    "#Another way of removing elements from the list is.\n",
    "list1.remove(\"a\")\n",
    "list1\n",
    "#As we can see, the element \"a\" has now been removed from the list"
   ]
  },
  {
   "cell_type": "code",
   "execution_count": null,
   "id": "1b141ba8-e0e7-466c-8804-213e247df08b",
   "metadata": {},
   "outputs": [],
   "source": [
    "#Q4.) Compare and contrast tuples and lists with examples.\n",
    "\n",
    "#A4.) Since we already know that list is an ordered colletion of items. Therefore, both list and tuples are the sequence of data types in python that can stored a collection of items.\n",
    "#however, that have some key differences in terms of mutability, synthax and usage. "
   ]
  },
  {
   "cell_type": "markdown",
   "id": "c95c46d6-3d11-4af4-9653-9f15a8bdf727",
   "metadata": {},
   "source": [
    "## Tuples"
   ]
  },
  {
   "cell_type": "code",
   "execution_count": 2,
   "id": "32cdab8f-e48e-4b3d-9874-927911293c9c",
   "metadata": {},
   "outputs": [
    {
     "ename": "AttributeError",
     "evalue": "'tuple' object has no attribute 'remove'",
     "output_type": "error",
     "traceback": [
      "\u001b[0;31m---------------------------------------------------------------------------\u001b[0m",
      "\u001b[0;31mAttributeError\u001b[0m                            Traceback (most recent call last)",
      "Cell \u001b[0;32mIn[2], line 4\u001b[0m\n\u001b[1;32m      1\u001b[0m \u001b[38;5;66;03m#Mutability\u001b[39;00m\n\u001b[1;32m      2\u001b[0m \u001b[38;5;66;03m#Tuples are immutable, meaning once they are created, they cannot be modified, added or removed.\u001b[39;00m\n\u001b[1;32m      3\u001b[0m t \u001b[38;5;241m=\u001b[39m (\u001b[38;5;124m\"\u001b[39m\u001b[38;5;124ma\u001b[39m\u001b[38;5;124m\"\u001b[39m, \u001b[38;5;241m1\u001b[39m, \u001b[38;5;241m2\u001b[39m)\n\u001b[0;32m----> 4\u001b[0m \u001b[43mt\u001b[49m\u001b[38;5;241;43m.\u001b[39;49m\u001b[43mremove\u001b[49m(\u001b[38;5;241m2\u001b[39m)\n",
      "\u001b[0;31mAttributeError\u001b[0m: 'tuple' object has no attribute 'remove'"
     ]
    }
   ],
   "source": [
    "#Mutability\n",
    "#Tuples are immutable, meaning once they are created, they cannot be modified, added or removed.\n",
    "t = (\"a\", 1, 2)\n",
    "t.remove(2)"
   ]
  },
  {
   "cell_type": "code",
   "execution_count": 3,
   "id": "870ae055-ceaf-4508-bb27-06a6c7738904",
   "metadata": {},
   "outputs": [
    {
     "data": {
      "text/plain": [
       "(1, 2, 'a')"
      ]
     },
     "execution_count": 3,
     "metadata": {},
     "output_type": "execute_result"
    }
   ],
   "source": [
    "#Synthax \n",
    "#Tuples are defined using paranthesis '()'\n",
    "t = (1,2, \"a\")\n",
    "t"
   ]
  },
  {
   "cell_type": "code",
   "execution_count": 4,
   "id": "8c641113-643c-45ce-8ebe-5c28dd7336c2",
   "metadata": {},
   "outputs": [],
   "source": [
    "#Use cases\n",
    "#Tuples are often used for fixed collections of items, such as coordinates, RGB values, or other related items that should not change.\n",
    "\n",
    "#Methods \n",
    "#Tuples have fewer built-in methods compared to lists. Common methods include 'count()' and 'index()'."
   ]
  },
  {
   "cell_type": "markdown",
   "id": "2f4a76ea-21cc-4b67-829e-19c8f073cb7e",
   "metadata": {},
   "source": [
    "## Lists"
   ]
  },
  {
   "cell_type": "code",
   "execution_count": 6,
   "id": "0465fb27-7fc4-4a4c-a930-3c604f17845b",
   "metadata": {},
   "outputs": [
    {
     "data": {
      "text/plain": [
       "[2, 3]"
      ]
     },
     "execution_count": 6,
     "metadata": {},
     "output_type": "execute_result"
    }
   ],
   "source": [
    "#Mutability \n",
    "#Lists are mutable that means you can add, remove or change the elements inside the list once it has been created.\n",
    "l = [1,2,3]\n",
    "l.remove(1)\n",
    "l"
   ]
  },
  {
   "cell_type": "code",
   "execution_count": 7,
   "id": "ac7fa1cc-ed37-4c35-a9e7-30ab99b42a75",
   "metadata": {},
   "outputs": [
    {
     "data": {
      "text/plain": [
       "['a', 'b', 'c']"
      ]
     },
     "execution_count": 7,
     "metadata": {},
     "output_type": "execute_result"
    }
   ],
   "source": [
    "#Synthax\n",
    "#Lists are defined using square brackets '[]'\n",
    "l = [\"a\",\"b\",\"c\"]\n",
    "l"
   ]
  },
  {
   "cell_type": "code",
   "execution_count": 8,
   "id": "13481257-64f6-4592-ba65-96c11a88760a",
   "metadata": {},
   "outputs": [],
   "source": [
    "#Use cases\n",
    "#Lists are used for collections of items that may need to change or be modified over time, such as a list of tasks, users, or dynamic data.\n",
    "\n",
    "#Methods\n",
    "#Lists have a wider range of built-in methods for manipulation, including 'append()', 'extend()', 'insert()', 'remove()', 'pop()', 'sort()', 'reverse()', and more."
   ]
  },
  {
   "cell_type": "code",
   "execution_count": 11,
   "id": "76123d05-7bee-452a-b2b0-a5818ba14ba7",
   "metadata": {},
   "outputs": [
    {
     "data": {
      "text/plain": [
       "{1, 2, 2.2, 3, 'alex'}"
      ]
     },
     "execution_count": 11,
     "metadata": {},
     "output_type": "execute_result"
    }
   ],
   "source": [
    "#Q5.)  Describe the key features of sets and provide examples of their use.\n",
    "\n",
    "#A5.) Sets in Python are collections of unique, unordered elements. They are used to perform mathematical set operations like union, intersection, and difference.\n",
    "#Features of sets are:\n",
    "#Unordered\n",
    "#Sets do not maintain any order. When you print a set, elements may appear in a different order than they were added.\n",
    "s= {1,2,3,\"alex\", True,2.2}\n",
    "s\n",
    "\n"
   ]
  },
  {
   "cell_type": "code",
   "execution_count": 12,
   "id": "bd746668-7026-4f9f-a14a-305c819aa554",
   "metadata": {},
   "outputs": [
    {
     "data": {
      "text/plain": [
       "{1, 2, 3, 4}"
      ]
     },
     "execution_count": 12,
     "metadata": {},
     "output_type": "execute_result"
    }
   ],
   "source": [
    "#Unique Elements\n",
    "#Sets automatically removes duplicate elements. Each element in a set must be uniqu.\n",
    "s = {1,1,1,2,2,2,3,3,3,4,4,4}\n",
    "s"
   ]
  },
  {
   "cell_type": "code",
   "execution_count": 13,
   "id": "ac441bc9-7351-465c-b7b7-460c6f53bb54",
   "metadata": {},
   "outputs": [
    {
     "data": {
      "text/plain": [
       "{1, 2, 3}"
      ]
     },
     "execution_count": 13,
     "metadata": {},
     "output_type": "execute_result"
    }
   ],
   "source": [
    "#Mutable\n",
    "#Sets themselves are mutable; you can add or remove elements. However, the elements contained in a set must be immutable (e.g., numbers, strings, tuples).\n",
    "s = {1,2,3,\"alex\"}\n",
    "s.remove(\"alex\")\n",
    "s"
   ]
  },
  {
   "cell_type": "code",
   "execution_count": 14,
   "id": "c4670b8a-7089-4037-8898-58c539df24dc",
   "metadata": {},
   "outputs": [
    {
     "data": {
      "text/plain": [
       "{1, 2, 3, 'john'}"
      ]
     },
     "execution_count": 14,
     "metadata": {},
     "output_type": "execute_result"
    }
   ],
   "source": [
    "#Adding elements in a set\n",
    "s.add(\"john\")\n",
    "s"
   ]
  },
  {
   "cell_type": "code",
   "execution_count": 15,
   "id": "135f2b6a-3a70-49e0-b768-7c9927aaf2f6",
   "metadata": {},
   "outputs": [
    {
     "ename": "TypeError",
     "evalue": "'set' object is not subscriptable",
     "output_type": "error",
     "traceback": [
      "\u001b[0;31m---------------------------------------------------------------------------\u001b[0m",
      "\u001b[0;31mTypeError\u001b[0m                                 Traceback (most recent call last)",
      "Cell \u001b[0;32mIn[15], line 4\u001b[0m\n\u001b[1;32m      1\u001b[0m \u001b[38;5;66;03m#No Indexing\u001b[39;00m\n\u001b[1;32m      2\u001b[0m \u001b[38;5;66;03m#Since sets are unordered, you cannot access elements by index. There is no slicing or indexing with sets.\u001b[39;00m\n\u001b[1;32m      3\u001b[0m s \u001b[38;5;241m=\u001b[39m {\u001b[38;5;241m1\u001b[39m,\u001b[38;5;241m2\u001b[39m,\u001b[38;5;241m3\u001b[39m,\u001b[38;5;28;01mTrue\u001b[39;00m}\n\u001b[0;32m----> 4\u001b[0m \u001b[43ms\u001b[49m\u001b[43m[\u001b[49m\u001b[38;5;241;43m0\u001b[39;49m\u001b[43m]\u001b[49m\n",
      "\u001b[0;31mTypeError\u001b[0m: 'set' object is not subscriptable"
     ]
    }
   ],
   "source": [
    "#No Indexing\n",
    "#Since sets are unordered, you cannot access elements by index. There is no slicing or indexing with sets.\n",
    "s = {1,2,3,True}\n",
    "s[0]"
   ]
  },
  {
   "cell_type": "code",
   "execution_count": 16,
   "id": "e857ec55-a051-4bb2-ae24-5fd67f67caae",
   "metadata": {},
   "outputs": [],
   "source": [
    "#Built-in Methods\n",
    "#Sets come with several built-in methods that allow for easy set operations. Common methods include 'add()', 'remove()', 'union()', 'intersection()', 'difference()', and 'symmetric_difference()'."
   ]
  },
  {
   "cell_type": "code",
   "execution_count": null,
   "id": "792f082d-f97a-4aaa-bfb3-55dc1fe883a3",
   "metadata": {},
   "outputs": [],
   "source": [
    "#Q6.) Discuss the use cases of tuples and sets in Python programming.\n",
    "\n",
    "#Q6.) Tuples and sets in Python have distinct properties that make them suitable for different use cases. Below are some of the use cases of tuples and sets"
   ]
  },
  {
   "cell_type": "markdown",
   "id": "33c3ebe6-6b9c-43ba-874f-24990b8d4292",
   "metadata": {
    "tags": []
   },
   "source": [
    "## Use cases of Tuples"
   ]
  },
  {
   "cell_type": "code",
   "execution_count": 1,
   "id": "ae8e7cc0-3efd-48a4-b3c6-1cbd5fbfd5d6",
   "metadata": {},
   "outputs": [
    {
     "data": {
      "text/plain": [
       "(1, 2, 3)"
      ]
     },
     "execution_count": 1,
     "metadata": {},
     "output_type": "execute_result"
    }
   ],
   "source": [
    "#Fixed Collection\n",
    "#Tuples are ideal for storing a fixed collection of items. Since they are immutable, the data they contain is protected from changes.\n",
    "t = (1,2,3)\n",
    "t"
   ]
  },
  {
   "cell_type": "code",
   "execution_count": 2,
   "id": "7079b100-815f-411e-87eb-1ff8adc543d5",
   "metadata": {},
   "outputs": [
    {
     "ename": "AttributeError",
     "evalue": "'tuple' object has no attribute 'remove'",
     "output_type": "error",
     "traceback": [
      "\u001b[0;31m---------------------------------------------------------------------------\u001b[0m",
      "\u001b[0;31mAttributeError\u001b[0m                            Traceback (most recent call last)",
      "Cell \u001b[0;32mIn[2], line 4\u001b[0m\n\u001b[1;32m      1\u001b[0m \u001b[38;5;66;03m#Immutable Records\u001b[39;00m\n\u001b[1;32m      2\u001b[0m \u001b[38;5;66;03m#One of the feature of tuples is that after once they are created, they cannot be modified, removed or changed. Theyfore they are suitable for storing a database records\u001b[39;00m\n\u001b[1;32m      3\u001b[0m t \u001b[38;5;241m=\u001b[39m (\u001b[38;5;124m\"\u001b[39m\u001b[38;5;124malex\u001b[39m\u001b[38;5;124m\"\u001b[39m, \u001b[38;5;241m100\u001b[39m, \u001b[38;5;124m\"\u001b[39m\u001b[38;5;124mmath\u001b[39m\u001b[38;5;124m\"\u001b[39m)\n\u001b[0;32m----> 4\u001b[0m \u001b[43mt\u001b[49m\u001b[38;5;241;43m.\u001b[39;49m\u001b[43mremove\u001b[49m(\u001b[38;5;124m\"\u001b[39m\u001b[38;5;124mmath\u001b[39m\u001b[38;5;124m\"\u001b[39m)\n",
      "\u001b[0;31mAttributeError\u001b[0m: 'tuple' object has no attribute 'remove'"
     ]
    }
   ],
   "source": [
    "#Immutable Records\n",
    "#One of the feature of tuples is that after once they are created, they cannot be modified, removed or changed. Theyfore they are suitable for storing a database records\n",
    "t = (\"alex\", 100, \"math\")\n",
    "t.remove(\"math\")"
   ]
  },
  {
   "cell_type": "code",
   "execution_count": 4,
   "id": "1625d082-6a93-44a9-b2d9-37a2fb3127ae",
   "metadata": {},
   "outputs": [
    {
     "data": {
      "text/plain": [
       "{('dad', 'personal number'): '1234-3456'}"
      ]
     },
     "execution_count": 4,
     "metadata": {},
     "output_type": "execute_result"
    }
   ],
   "source": [
    "#Dictionary Keys\n",
    "#Tuples can be used as keys in dictionaries because they are immutable and hashable.\n",
    "Phone_number= {(\"dad\", \"personal number\"):\"1234-3456\"}\n",
    "Phone_number"
   ]
  },
  {
   "cell_type": "code",
   "execution_count": 5,
   "id": "96a7da0a-4885-4912-9d67-aa1998aa9ffe",
   "metadata": {},
   "outputs": [
    {
     "data": {
      "text/plain": [
       "('alex', 1.5, 2, True, (3+9j))"
      ]
     },
     "execution_count": 5,
     "metadata": {},
     "output_type": "execute_result"
    }
   ],
   "source": [
    "#Aggregated Data\n",
    "#Unlike list, Tuples are also heterogenous, that means they can store different data types in a single entity.\n",
    "t = (\"alex\", 1.5, 2, True, 3+9j)\n",
    "t"
   ]
  },
  {
   "cell_type": "markdown",
   "id": "f2dff460-6348-4a49-9c33-2f02bcc8c21e",
   "metadata": {},
   "source": [
    "## Use Cases of Sets"
   ]
  },
  {
   "cell_type": "code",
   "execution_count": 6,
   "id": "16c4ea62-2063-4cbf-b919-09a13ab6e1e7",
   "metadata": {},
   "outputs": [
    {
     "data": {
      "text/plain": [
       "{1, 2, 3, 4}"
      ]
     },
     "execution_count": 6,
     "metadata": {},
     "output_type": "execute_result"
    }
   ],
   "source": [
    "#Removing Duplicates\n",
    "#One fo the use case or key feature of sets is that it only shows items that are unique and ignores the items that are repeating itselves.\n",
    "s = {1,1,1,2,2,2,3,3,3,4,4,4}\n",
    "s"
   ]
  },
  {
   "cell_type": "code",
   "execution_count": 7,
   "id": "8565a5cd-8e0e-4b9b-bf97-a8b53b77be3c",
   "metadata": {},
   "outputs": [
    {
     "data": {
      "text/plain": [
       "True"
      ]
     },
     "execution_count": 7,
     "metadata": {},
     "output_type": "execute_result"
    }
   ],
   "source": [
    "#Membership Testing\n",
    "#Sets provide an efficient way to check for the presence of an item.\n",
    "s = {'alex', 1,2,3,4,True}\n",
    "'alex' in s "
   ]
  },
  {
   "cell_type": "code",
   "execution_count": 10,
   "id": "f8d0d6bb-82d8-43a3-90a3-368cb2649e50",
   "metadata": {},
   "outputs": [
    {
     "data": {
      "text/plain": [
       "True"
      ]
     },
     "execution_count": 10,
     "metadata": {},
     "output_type": "execute_result"
    }
   ],
   "source": [
    "#another way of doing that is\n",
    "prime_numbers = {2,3,5,7}\n",
    "is_prime = 7 in prime_numbers\n",
    "is_prime"
   ]
  },
  {
   "cell_type": "code",
   "execution_count": 12,
   "id": "b9808fac-1db1-462a-a341-8176bbe09a58",
   "metadata": {},
   "outputs": [
    {
     "data": {
      "text/plain": [
       "{1.2, 2, True, 'apple', 'banana'}"
      ]
     },
     "execution_count": 12,
     "metadata": {},
     "output_type": "execute_result"
    }
   ],
   "source": [
    "#Unique Elements Collection\n",
    "#Sets are used when you need a collection of unique elements.\n",
    "s = {True, 'banana', 'apple',1.2,2}\n",
    "s"
   ]
  },
  {
   "cell_type": "code",
   "execution_count": 13,
   "id": "be26679b-1f44-435c-9673-239113169951",
   "metadata": {},
   "outputs": [
    {
     "data": {
      "text/plain": [
       "True"
      ]
     },
     "execution_count": 13,
     "metadata": {},
     "output_type": "execute_result"
    }
   ],
   "source": [
    "#Fast Lookups\n",
    "#Sets are optimized for fast membership tests, making them suitable for scenarios where quick lookups are required.\n",
    "s = {'banana','apple','pear','mango'}\n",
    "\"pear\" in s"
   ]
  },
  {
   "cell_type": "code",
   "execution_count": 15,
   "id": "f0bec3a4-4fce-4395-b758-4a585e6a1cbe",
   "metadata": {},
   "outputs": [
    {
     "data": {
      "text/plain": [
       "{'banana', 'pear'}"
      ]
     },
     "execution_count": 15,
     "metadata": {},
     "output_type": "execute_result"
    }
   ],
   "source": [
    "#Mutability\n",
    "#Sets are mutable, which means the records stored inside sets can be removed, added or changed.\n",
    "s = {'apple', 'pear','banana'}\n",
    "s.remove('apple')\n",
    "s"
   ]
  },
  {
   "cell_type": "code",
   "execution_count": 16,
   "id": "12675c39-a1f8-4a21-9699-91251251bb6c",
   "metadata": {},
   "outputs": [
    {
     "data": {
      "text/plain": [
       "{'banana', 'notebook', 'pear'}"
      ]
     },
     "execution_count": 16,
     "metadata": {},
     "output_type": "execute_result"
    }
   ],
   "source": [
    "s.add('notebook')\n",
    "s"
   ]
  },
  {
   "cell_type": "code",
   "execution_count": 17,
   "id": "d42265f9-bc3f-446b-b0ba-f2579b3c07bb",
   "metadata": {},
   "outputs": [
    {
     "data": {
      "text/plain": [
       "{'banana', 'pear'}"
      ]
     },
     "execution_count": 17,
     "metadata": {},
     "output_type": "execute_result"
    }
   ],
   "source": [
    "s.pop() #Since sets are not indexed, this code will remove a random value of element unlike in list where it is used to remove the last elemenet.\n",
    "s"
   ]
  },
  {
   "cell_type": "code",
   "execution_count": 20,
   "id": "68bdcedd-332e-4c77-af25-b3cc4ed5ae1f",
   "metadata": {},
   "outputs": [
    {
     "data": {
      "text/plain": [
       "{'name': 'John', 'country': 'India', 'phone number': 12345}"
      ]
     },
     "execution_count": 20,
     "metadata": {},
     "output_type": "execute_result"
    }
   ],
   "source": [
    "#Q7.) Describe how to add, modify, and delete items in a dictionary with examples.\n",
    "\n",
    "#A7.) Dictionaries are is a type of datastructure that can store data as key value pair. Keys are unique and immutable, but the values stored inside the keys can be added, changed or removed.\n",
    "\n",
    "#Lets suppose this is our dictionary\n",
    "dic1 = {\"name\" : \"John\", \"country\": \"India\", \"phone number\": 12345}\n",
    "dic1 #By executing dic1 we get the values stored inside dic1."
   ]
  },
  {
   "cell_type": "code",
   "execution_count": 21,
   "id": "e36e179d-175a-4907-8c38-85882c92345c",
   "metadata": {},
   "outputs": [
    {
     "data": {
      "text/plain": [
       "{'name': 'John', 'country': 'India', 'phone number': 12345, 'age': [21]}"
      ]
     },
     "execution_count": 21,
     "metadata": {},
     "output_type": "execute_result"
    }
   ],
   "source": [
    "#In order to add an element in the dict1 we need to follow these steps\n",
    "dic1 = {\"name\" : \"John\", \"country\": \"India\", \"phone number\": 12345}\n",
    "dic1[\"age\"] = [21] #In order to add a key key and value in an old dictionary, first we need to call the variable name of our dictionary along with assigining a new key name that we want to include. Then with the help of '=', we can give that key a value of our choice. .\n",
    "dic1"
   ]
  },
  {
   "cell_type": "code",
   "execution_count": 37,
   "id": "2834ec1b-7486-4aae-a028-db3689467ec7",
   "metadata": {},
   "outputs": [
    {
     "data": {
      "text/plain": [
       "{'name': 'John',\n",
       " 'country': 'India',\n",
       " 'phone number': 12345,\n",
       " 'gender': 'male',\n",
       " 'job': 'manager'}"
      ]
     },
     "execution_count": 37,
     "metadata": {},
     "output_type": "execute_result"
    }
   ],
   "source": [
    "#Another way of modifying the dictonary is using the update.() function\n",
    "dic1 = {\"name\" : \"John\", \"country\": \"India\", \"phone number\": 12345}\n",
    "dic2 = {\"gender\":\"male\", \"job\":\"manager\"}\n",
    "dic1.update(dic2) #This function will help update the values of one dictionary into the other \n",
    "dic1"
   ]
  },
  {
   "cell_type": "code",
   "execution_count": 22,
   "id": "a83428b0-c5a4-479f-bdf7-0da20e5d1b1d",
   "metadata": {},
   "outputs": [
    {
     "data": {
      "text/plain": [
       "{'name': 'John', 'country': ['america'], 'phone number': 12345}"
      ]
     },
     "execution_count": 22,
     "metadata": {},
     "output_type": "execute_result"
    }
   ],
   "source": [
    "#In order to modify a value, we have to follow these steps.\n",
    "dic1 = {\"name\" : \"John\", \"country\": \"India\", \"phone number\": 12345}\n",
    "#For example lets modify the value stored insdie the key \"country\" into \"america\"\n",
    "dic1[\"country\"] = [\"america\"] #In order to change the value of a key, we need to first call that key along with the variable name, and then with the help of '=', we can assing that key a new value.\n",
    "dic1"
   ]
  },
  {
   "cell_type": "code",
   "execution_count": 28,
   "id": "b9bcd710-8b6b-4114-94f6-d09bea3deed5",
   "metadata": {},
   "outputs": [
    {
     "data": {
      "text/plain": [
       "{'country': 'India', 'phone number': 12345}"
      ]
     },
     "execution_count": 28,
     "metadata": {},
     "output_type": "execute_result"
    }
   ],
   "source": [
    "#In order to delete the items in the dictionary we can use various techniques.\n",
    "dic1 = {\"name\" : \"John\", \"country\": \"India\", \"phone number\": 12345}\n",
    "#One of the ways to delete the items in the list is using del function\n",
    "del dic1[\"name\"] #This function helps delete the value stored inside the dictionary by calling the key whose value we want to delete.\n",
    "dic1"
   ]
  },
  {
   "cell_type": "code",
   "execution_count": 29,
   "id": "cb5a8d9a-10a6-4b40-aac4-c1be3419aa93",
   "metadata": {},
   "outputs": [
    {
     "data": {
      "text/plain": [
       "{'name': 'John', 'country': 'India'}"
      ]
     },
     "execution_count": 29,
     "metadata": {},
     "output_type": "execute_result"
    }
   ],
   "source": [
    "#Using pop() function\n",
    "dic1 = {\"name\" : \"John\", \"country\": \"India\", \"phone number\": 12345}\n",
    "dic1.pop(\"phone number\")\n",
    "dic1"
   ]
  },
  {
   "cell_type": "code",
   "execution_count": 34,
   "id": "30c0afee-93ea-4591-94bb-0a0123aeb8f3",
   "metadata": {},
   "outputs": [
    {
     "data": {
      "text/plain": [
       "{'name': 'John', 'country': 'India'}"
      ]
     },
     "execution_count": 34,
     "metadata": {},
     "output_type": "execute_result"
    }
   ],
   "source": [
    "#Using popitem() function\n",
    "dic1 = {\"name\" : \"John\", \"country\": \"India\", \"phone number\": 12345}\n",
    "dic1.popitem()\n",
    "dic1"
   ]
  },
  {
   "cell_type": "code",
   "execution_count": 35,
   "id": "f19430b6-d6d9-4aa5-8b58-66388336b6a9",
   "metadata": {},
   "outputs": [
    {
     "data": {
      "text/plain": [
       "{}"
      ]
     },
     "execution_count": 35,
     "metadata": {},
     "output_type": "execute_result"
    }
   ],
   "source": [
    "#using clear() function \n",
    "dic1 = {\"name\" : \"John\", \"country\": \"India\", \"phone number\": 12345}\n",
    "dic1.clear() #This will celar the dictionary as a whole.\n",
    "dic1"
   ]
  },
  {
   "cell_type": "code",
   "execution_count": null,
   "id": "0ca2c8ef-c89b-45ad-b77b-9639bbd46c01",
   "metadata": {},
   "outputs": [],
   "source": [
    "#Q8.) Discuss the importance of dictionary keys being immutable and provide examples.\n",
    "\n",
    "#A8.) In dictionary the keys are immutable except the values that are stored inside those keys. We can also add or remove key values , but the key name remains unchanged\n",
    "\n",
    "#Importance of Immutable Keys\n",
    "#Dictionary keys need to be hashable to ensure efficient lookups. Immutable types such as strings, numbers, and tuples have a fixed hash value which does not change over their lifetime. This makes them suitable as dictionary keys.\n",
    "\n",
    "#Consistency\n",
    "#If dictionary keys were mutable, their hash values could change, leading to inconsistencies. This would make it impossible to reliably locate the key-value pair in the dictionary.\n"
   ]
  },
  {
   "cell_type": "markdown",
   "id": "4ad788c9-d78a-4cb5-a2bc-812a6866ec8a",
   "metadata": {},
   "source": [
    "#### Examples of Immutable Keys\n"
   ]
  },
  {
   "cell_type": "code",
   "execution_count": 38,
   "id": "9607b94c-f9c3-425c-bc9a-451fdad51649",
   "metadata": {},
   "outputs": [
    {
     "data": {
      "text/plain": [
       "{'grade': 100, 'name': 'john'}"
      ]
     },
     "execution_count": 38,
     "metadata": {},
     "output_type": "execute_result"
    }
   ],
   "source": [
    "#String as a key\n",
    "dic1 = {\"grade\": 100, \"name\": \"john\"}\n",
    "dic1"
   ]
  },
  {
   "cell_type": "code",
   "execution_count": 39,
   "id": "42a05ba7-06c5-4bfe-9d2b-f67f4d276026",
   "metadata": {},
   "outputs": [
    {
     "data": {
      "text/plain": [
       "{1: 'one', 2: 'two', 3: 'three'}"
      ]
     },
     "execution_count": 39,
     "metadata": {},
     "output_type": "execute_result"
    }
   ],
   "source": [
    "#Number as a keys\n",
    "dic1 = { 1: 'one', 2: 'two', 3: 'three'}\n",
    "dic1\n"
   ]
  },
  {
   "cell_type": "code",
   "execution_count": 42,
   "id": "e75ec508-9b2f-4d87-8d5d-c12e2cbf3329",
   "metadata": {},
   "outputs": [
    {
     "data": {
      "text/plain": [
       "({(1, 2): 'north', (3, 4): 'south'}, ['north'])"
      ]
     },
     "execution_count": 42,
     "metadata": {},
     "output_type": "execute_result"
    }
   ],
   "source": [
    "#Tuples as a key\n",
    "dic1 = {(1,2): \"north\", (3,4): \"south\"}\n",
    "dic1, [dic1[(1,2)]]"
   ]
  },
  {
   "cell_type": "markdown",
   "id": "62cb5f6b-d04b-4721-bf61-a753aa360c7a",
   "metadata": {},
   "source": [
    "#### Examples of Mutable Types (Not Allowed as Keys)"
   ]
  },
  {
   "cell_type": "code",
   "execution_count": 43,
   "id": "03e3dbce-a0d5-429a-8369-127e327c0642",
   "metadata": {},
   "outputs": [
    {
     "ename": "TypeError",
     "evalue": "unhashable type: 'list'",
     "output_type": "error",
     "traceback": [
      "\u001b[0;31m---------------------------------------------------------------------------\u001b[0m",
      "\u001b[0;31mTypeError\u001b[0m                                 Traceback (most recent call last)",
      "Cell \u001b[0;32mIn[43], line 2\u001b[0m\n\u001b[1;32m      1\u001b[0m \u001b[38;5;66;03m#Lists as Keys\u001b[39;00m\n\u001b[0;32m----> 2\u001b[0m dic1 \u001b[38;5;241m=\u001b[39m {[\u001b[38;5;241m1\u001b[39m,\u001b[38;5;241m2\u001b[39m]: \u001b[38;5;124m\"\u001b[39m\u001b[38;5;124mA\u001b[39m\u001b[38;5;124m\"\u001b[39m, [\u001b[38;5;241m3\u001b[39m,\u001b[38;5;241m4\u001b[39m]: \u001b[38;5;124m\"\u001b[39m\u001b[38;5;124mB\u001b[39m\u001b[38;5;124m\"\u001b[39m}\n\u001b[1;32m      3\u001b[0m \u001b[38;5;66;03m#This will raise an error\u001b[39;00m\n\u001b[1;32m      4\u001b[0m dic1\n",
      "\u001b[0;31mTypeError\u001b[0m: unhashable type: 'list'"
     ]
    }
   ],
   "source": [
    "#Lists as Keys\n",
    "dic1 = {[1,2]: \"A\", [3,4]: \"B\"}\n",
    "#This will raise an error\n",
    "dic1"
   ]
  },
  {
   "cell_type": "code",
   "execution_count": 44,
   "id": "81278e2d-7b1d-4667-954e-dcf273e4f5fd",
   "metadata": {},
   "outputs": [
    {
     "ename": "TypeError",
     "evalue": "unhashable type: 'set'",
     "output_type": "error",
     "traceback": [
      "\u001b[0;31m---------------------------------------------------------------------------\u001b[0m",
      "\u001b[0;31mTypeError\u001b[0m                                 Traceback (most recent call last)",
      "Cell \u001b[0;32mIn[44], line 2\u001b[0m\n\u001b[1;32m      1\u001b[0m \u001b[38;5;66;03m#Sets as Keys\u001b[39;00m\n\u001b[0;32m----> 2\u001b[0m dic1 \u001b[38;5;241m=\u001b[39m {{\u001b[38;5;124m\"\u001b[39m\u001b[38;5;124mname\u001b[39m\u001b[38;5;124m\"\u001b[39m}: \u001b[38;5;124m\"\u001b[39m\u001b[38;5;124malex\u001b[39m\u001b[38;5;124m\"\u001b[39m, {\u001b[38;5;124m\"\u001b[39m\u001b[38;5;124mage\u001b[39m\u001b[38;5;124m\"\u001b[39m}:\u001b[38;5;241m21\u001b[39m}\n\u001b[1;32m      3\u001b[0m dic1\n",
      "\u001b[0;31mTypeError\u001b[0m: unhashable type: 'set'"
     ]
    }
   ],
   "source": [
    "#Sets as Keys\n",
    "dic1 = {{\"name\"}: \"alex\", {\"age\"}:21}\n",
    "dic1"
   ]
  }
 ],
 "metadata": {
  "kernelspec": {
   "display_name": "Python 3 (ipykernel)",
   "language": "python",
   "name": "python3"
  },
  "language_info": {
   "codemirror_mode": {
    "name": "ipython",
    "version": 3
   },
   "file_extension": ".py",
   "mimetype": "text/x-python",
   "name": "python",
   "nbconvert_exporter": "python",
   "pygments_lexer": "ipython3",
   "version": "3.10.8"
  }
 },
 "nbformat": 4,
 "nbformat_minor": 5
}
