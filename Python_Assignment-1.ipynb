{
 "cells": [
  {
   "cell_type": "markdown",
   "id": "574c8d42-1298-43d1-ad60-5502a0e6f3cb",
   "metadata": {},
   "source": [
    "ASSIGNMENT- 1"
   ]
  },
  {
   "cell_type": "raw",
   "id": "19216ef4-e5a5-47cd-98a5-a3ec5370e516",
   "metadata": {},
   "source": [
    "Q1). Explain the key feature of python that make it a popular choice for programming.\n",
    "\n",
    "A1). Python is a dynamic, high-level, free open source, and interpreted programming language. It supports object-oriented programming as well as procedural-oriented programming. In Python, we don’t need to declare the type of variable because it is a dynamically typed language. For example, x = 10 Here, x can be anything such as String, int, etc. In this article we will see what characteristics describe the python programming language\n",
    "\n",
    "FEATURES OF PYTHON:\n",
    "\n",
    "1. Free and Open Source\n",
    "2. Easy to code\n",
    "3. Easy to Read\n",
    "4. Object-Oriented Language\n",
    "5. GUI Programming Support\n",
    "6. High-Level Language\n",
    "7. Large Community Support\n",
    "8. Easy to Debug\n",
    "9. Python is a Portable language\n",
    "10. Python is an Integrated language"
   ]
  },
  {
   "cell_type": "raw",
   "id": "f7a5da37-7e70-478a-b812-c6d8ffa3e9b6",
   "metadata": {},
   "source": [
    "Q2). Describe the role of predefined keywords in Python and provide examples of how they are used in a program.\n",
    "\n",
    "A2). Predefined keywords in Python, also known as reserved words, play a crucial role in defining the syntax and structure of the language. These keywords have special meanings and cannot be used for any other purpose such as naming variables or functions. They form the backbone of Python's functionality, allowing programmers to write logical, readable, and maintainable code. Below, I’ll describe the role of some of these keywords and provide examples of how they are used in a program.\n",
    "\n",
    "\n",
    "\n"
   ]
  },
  {
   "cell_type": "markdown",
   "id": "5d21fe97-7ba0-4a65-9741-2e0733c4d705",
   "metadata": {},
   "source": [
    "For Example"
   ]
  },
  {
   "cell_type": "code",
   "execution_count": 1,
   "id": "333b6f56-70bd-450b-8e32-51021a4ee201",
   "metadata": {},
   "outputs": [
    {
     "name": "stdout",
     "output_type": "stream",
     "text": [
      "positive\n"
     ]
    }
   ],
   "source": [
    "#control flow with if, elif and else\n",
    "x = 10 \n",
    "if x < 0:\n",
    "    print(\"Negative\")\n",
    "elif x == 0:\n",
    "    print(\"Zero\")\n",
    "else:\n",
    "    print(\"positive\")"
   ]
  },
  {
   "cell_type": "code",
   "execution_count": 4,
   "id": "39f9c55c-3b27-4cfd-b69b-0b07db0665af",
   "metadata": {},
   "outputs": [
    {
     "name": "stdout",
     "output_type": "stream",
     "text": [
      "0\n",
      "1\n",
      "2\n",
      "3\n",
      "4\n"
     ]
    }
   ],
   "source": [
    "#using For loop\n",
    "\n",
    "for i in range(5):\n",
    "    print(i)\n",
    "    "
   ]
  },
  {
   "cell_type": "code",
   "execution_count": 5,
   "id": "83491f07-dde3-4b74-ab21-deb4e6691b99",
   "metadata": {},
   "outputs": [
    {
     "name": "stdout",
     "output_type": "stream",
     "text": [
      "5\n",
      "6\n",
      "7\n",
      "8\n",
      "9\n",
      "Code successful\n"
     ]
    }
   ],
   "source": [
    "#using While loop\n",
    "\n",
    "a = 10\n",
    "b = 5 \n",
    "\n",
    "while b < a:\n",
    "    print(b)\n",
    "    b = b + 1\n",
    "else:\n",
    "    print(\"Code successful\")"
   ]
  },
  {
   "cell_type": "raw",
   "id": "db9f4c99-e7da-451a-a2d0-52c92d04aa6f",
   "metadata": {},
   "source": [
    "Q3). Compare and contrast mutable and immutable objects in python with examples.\n",
    "\n",
    "A3). Mutable objects in Python are those that can be changed after they are created, like lists or dictionaries. Immutable objects, on the other hand, cannot be changed after they are created, such as strings, integers, or tuples.\n"
   ]
  },
  {
   "cell_type": "markdown",
   "id": "87417f2a-40a6-48c7-97dc-c3b47b79c59d",
   "metadata": {},
   "source": [
    "For Example"
   ]
  },
  {
   "cell_type": "code",
   "execution_count": 7,
   "id": "318fc186-cbc4-4aeb-8fa0-383695cc9519",
   "metadata": {},
   "outputs": [
    {
     "data": {
      "text/plain": [
       "[1, 2, 3, 4, 'John', (2+3j)]"
      ]
     },
     "execution_count": 7,
     "metadata": {},
     "output_type": "execute_result"
    }
   ],
   "source": [
    "#Examples of mutabe objects \n",
    "\n",
    "my_list = [1,2,3,4,\"alex\", 2+3j]\n",
    "\n",
    "# Since list is a mutable object, we will try to mutate or change one of the value stored inside the list named my_list\n",
    "\n",
    "my_list[4] #This will show us the value stored inside the list that alligns with the index number 4, so if we execute this fucntion it will call out \"alex\"\n",
    "\n",
    "#Now let is change this value to something else\n",
    "\n",
    "my_list[4] = \"John\"\n",
    "\n",
    "#Now if we will execute my_list, it will show us the new list with the new item which we have just added to it\n",
    "\n",
    "my_list"
   ]
  },
  {
   "cell_type": "code",
   "execution_count": 11,
   "id": "049fbf3e-9fe1-4cc7-92de-4f316846611b",
   "metadata": {},
   "outputs": [
    {
     "ename": "TypeError",
     "evalue": "'str' object does not support item assignment",
     "output_type": "error",
     "traceback": [
      "\u001b[0;31m---------------------------------------------------------------------------\u001b[0m",
      "\u001b[0;31mTypeError\u001b[0m                                 Traceback (most recent call last)",
      "Cell \u001b[0;32mIn[11], line 11\u001b[0m\n\u001b[1;32m      7\u001b[0m a[\u001b[38;5;241m0\u001b[39m] \u001b[38;5;66;03m#This function will call out that letter of the sentence \"This is a python string\" that lies on the index number 0, that is T\u001b[39;00m\n\u001b[1;32m      9\u001b[0m \u001b[38;5;66;03m#Now if we try to change the letter \"T\" into \"A\", it will throw an error\u001b[39;00m\n\u001b[0;32m---> 11\u001b[0m \u001b[43ma\u001b[49m\u001b[43m[\u001b[49m\u001b[38;5;241;43m0\u001b[39;49m\u001b[43m]\u001b[49m \u001b[38;5;241m=\u001b[39m \u001b[38;5;124m\"\u001b[39m\u001b[38;5;124mS\u001b[39m\u001b[38;5;124m\"\u001b[39m\n",
      "\u001b[0;31mTypeError\u001b[0m: 'str' object does not support item assignment"
     ]
    }
   ],
   "source": [
    "#Example of immutable object\n",
    "\n",
    "a = \"This is a python string\"\n",
    "\n",
    "#If we try to mutate or change a value of a string, it will throw us an error, because string is an immutable object\n",
    "\n",
    "a[0] #This function will call out that letter of the sentence \"This is a python string\" that lies on the index number 0, that is T\n",
    "\n",
    "#Now if we try to change the letter \"T\" into \"A\", it will throw an error\n",
    "\n",
    "a[0] = \"S\""
   ]
  },
  {
   "cell_type": "raw",
   "id": "b38a4542-3395-474b-80ac-2a41ee685e88",
   "metadata": {},
   "source": [
    "Q4). Discuss the different types of operators in Python and provide examples of how they are used.\n",
    "\n",
    "A4). Python offers a rich set of operators that allow you to perform various operations on variables and values. These operators can be classified into several categories: arithmetic, comparison, logical, bitwise, assignment, identity, membership, and special operators. Below, I'll discuss each type with examples of how they are used.\n",
    "\n",
    "1. Arithmetic Operators\n",
    "Arithmetic operators are used to perform mathematical operations such as addition, subtraction, multiplication, etc.\n",
    "\n",
    "+ : Addition\n",
    "- : Subtraction\n",
    "* : Multiplication\n",
    "/ : Division\n",
    "% : Modulus\n",
    "** : Exponentiation\n",
    "// : Floor division\n",
    "\n",
    "Examples:\n",
    "\n",
    "a = 10\n",
    "b = 3\n",
    "\n",
    "print(a + b)  #Output: 13\n",
    "print(a - b)  #Output: 7\n",
    "print(a * b)  #Output: 30\n",
    "print(a / b)  #Output: 3.3333333333333335\n",
    "print(a % b)  #Output: 1\n",
    "print(a ** b) #Output: 1000\n",
    "print(a // b) #Output: 3\n",
    "\n",
    "\n",
    "2. Comparison Operators\n",
    "Comparison operators are used to compare two values. They return either True or False.\n",
    "\n",
    "== : Equal to\n",
    "!= : Not equal to\n",
    "> : Greater than\n",
    "< : Less than\n",
    ">= : Greater than or equal to\n",
    "<= : Less than or equal to\n",
    "\n",
    "Examples:\n",
    "\n",
    "a = 10\n",
    "b = 3\n",
    "\n",
    "print(a == b)  #Output: False\n",
    "print(a != b)  #Output: True\n",
    "print(a > b)   #Output: True\n",
    "print(a < b)   #Output: False\n",
    "print(a >= b)  #Output: True\n",
    "print(a <= b)  #Output: False\n",
    "\n",
    "\n",
    "3. Logical Operators\n",
    "Logical operators are used to combine conditional statements.\n",
    "\n",
    "and : Logical AND\n",
    "or : Logical OR\n",
    "not : Logical NOT\n",
    "\n",
    "Examples:\n",
    "\n",
    "a = True\n",
    "b = False\n",
    "\n",
    "print(a and b) #Output: False\n",
    "print(a or b)  #Output: True\n",
    "print(not a)   #Output: False\n",
    "\n",
    "4. Bitwise Operators\n",
    "Bitwise operators operate on bits and perform bit-by-bit operations.\n",
    "\n",
    "& : Bitwise AND\n",
    "| : Bitwise OR\n",
    "^ : Bitwise XOR\n",
    "~ : Bitwise NOT\n",
    "<< : Left shift\n",
    ">> : Right shift\n",
    "\n",
    "Examples:\n",
    "\n",
    "a = 10  # 1010 in binary\n",
    "b = 4   # 0100 in binary\n",
    "\n",
    "print(a & b)  #Output: 0 (0000)\n",
    "print(a | b)  #Output: 14 (1110)\n",
    "print(a ^ b)  #Output: 14 (1110)\n",
    "print(~a)     #Output: -11 (inverts all bits)\n",
    "print(a << 2) #Output: 40 (101000)\n",
    "print(a >> 2) #Output: 2 (10)\n",
    "\n",
    "5. Assignment Operators\n",
    "Assignment operators are used to assign values to variables.\n",
    "\n",
    "= : Assign\n",
    "+= : Add and assign\n",
    "-= : Subtract and assign\n",
    "*= : Multiply and assign\n",
    "/= : Divide and assign\n",
    "%= : Modulus and assign\n",
    "**= : Exponentiation and assign\n",
    "//= : Floor division and assign\n",
    "\n",
    "Examples:\n",
    "\n",
    "a = 10\n",
    "\n",
    "a += 3  #a = a + 3\n",
    "print(a)  #Output: 13\n",
    "\n",
    "a -= 3  #a = a - 3\n",
    "print(a)  #Output: 10\n",
    "\n",
    "a *= 2  #a = a * 2\n",
    "print(a)  #Output: 20\n",
    "\n",
    "a /= 2  #a = a / 2\n",
    "print(a)  #Output: 10.0\n",
    "\n",
    "a %= 3  #a = a % 3\n",
    "print(a)  #Output: 1.0\n",
    "\n",
    "a **= 2  #a = a ** 2\n",
    "print(a)  # Output: 1.0\n",
    "\n",
    "a //= 2  #a = a // 2\n",
    "print(a)  #Output: 0.0\n",
    "\n",
    "6. Identity Operators\n",
    "Identity operators are used to compare the memory locations of two objects.\n",
    "\n",
    "is : Returns True if both variables are the same object\n",
    "is not : Returns True if both variables are not the same object\n",
    "\n",
    "Examples:\n",
    "\n",
    "a = [1, 2, 3]\n",
    "b = a\n",
    "c = a[:]\n",
    "\n",
    "print(a is b)      #Output: True\n",
    "print(a is c)      #Output: False\n",
    "print(a is not c)  #Output: True\n",
    "\n",
    "7. Membership Operators\n",
    "Membership operators are used to test if a sequence is present in an object.\n",
    "\n",
    "in : Returns True if a sequence with the specified value is present in the object\n",
    "not in : Returns True if a sequence with the specified value is not present in the object\n",
    "\n",
    "Examples:\n",
    "\n",
    "a = [1, 2, 3, 4, 5]\n",
    "\n",
    "print(3 in a)      # Output: True\n",
    "print(6 in a)      # Output: False\n",
    "print(6 not in a)  # Output: True\n",
    "\n",
    "\n"
   ]
  },
  {
   "cell_type": "raw",
   "id": "7f40c8de-f636-419d-9242-7b7efbe24645",
   "metadata": {},
   "source": [
    "Q5). Explain the concept of type casting in Python with examples.\n",
    "\n",
    "A5). Type casting is a method used to change the variables/ values declared in a certain data type into a different data type to match the operation required to be performed by the code snippet. In python, this feature can be accomplished by using constructor functions like int(), string(), float(), etc.\n",
    "\n",
    "\n",
    "\n",
    "\n",
    "\n"
   ]
  },
  {
   "cell_type": "markdown",
   "id": "10a36c1f-a747-476f-8137-007fd291bbd6",
   "metadata": {},
   "source": [
    "Examples of Typecasting\n"
   ]
  },
  {
   "cell_type": "code",
   "execution_count": 7,
   "id": "60148553-481f-4a91-b587-4cc9fc102fe6",
   "metadata": {},
   "outputs": [
    {
     "name": "stdout",
     "output_type": "stream",
     "text": [
      "2 <class 'str'>\n",
      "2 <class 'int'>\n"
     ]
    }
   ],
   "source": [
    "#Converting string into integer\n",
    "\n",
    "a = \"2\"\n",
    "print(a , type(a)) #The out put for this code will be 2 <class 'str'>\n",
    "\n",
    "#Let us now convert this string into an integer \n",
    "\n",
    "a = \"2\"\n",
    "b = int(a)\n",
    "\n",
    "print(b, type(b)) #With the help of this code, we have assigned the vale of a in b as an integer, and when we print b and type b, the output would be 2 < class 'int' >\n"
   ]
  },
  {
   "cell_type": "code",
   "execution_count": 10,
   "id": "966737d4-e819-488d-9f4b-0f557720d00f",
   "metadata": {},
   "outputs": [
    {
     "name": "stdout",
     "output_type": "stream",
     "text": [
      "5 <class 'int'>\n",
      "5.0 <class 'float'>\n"
     ]
    }
   ],
   "source": [
    "#Converting an integer into float\n",
    "\n",
    "y = 5\n",
    "x = float(y)\n",
    "\n",
    "print(y,type(y))\n",
    "print(x, type(x))"
   ]
  },
  {
   "cell_type": "code",
   "execution_count": 12,
   "id": "c308f8b0-cde9-4745-908a-3cd17db40a48",
   "metadata": {},
   "outputs": [
    {
     "name": "stdout",
     "output_type": "stream",
     "text": [
      "9.5 <class 'float'>\n",
      "9 <class 'int'>\n"
     ]
    }
   ],
   "source": [
    "#Converting float to an integer\n",
    "\n",
    "f = 9.50\n",
    "g = int(f)\n",
    "\n",
    "print(f, type(f))\n",
    "print(g, type(g))"
   ]
  },
  {
   "cell_type": "raw",
   "id": "c33e39b8-f873-4a55-842b-8af1a94de6c6",
   "metadata": {},
   "source": [
    "Q6.)  How do conditional statetents work in Python? Illustsate with examples.\n",
    "\n",
    "A6.) Conditional statements (if, else, and elif) are fundamental programming constructs that allow you to control the flow of your program based on conditions that you specify. They provide a way to make decisions in your program and execute different code based on those decisions\n"
   ]
  },
  {
   "cell_type": "markdown",
   "id": "71cd3acb-bcf9-4aa7-b92a-0d17e7f0bbd3",
   "metadata": {},
   "source": [
    "For Examples"
   ]
  },
  {
   "cell_type": "code",
   "execution_count": 28,
   "id": "9b67408f-8bcd-4d8b-b680-1ea811932cf2",
   "metadata": {},
   "outputs": [
    {
     "name": "stdout",
     "output_type": "stream",
     "text": [
      "I will play football outside\n"
     ]
    }
   ],
   "source": [
    "#creating a conditional statement using if, else and elif\n",
    "\n",
    "weather = \"rainy\"              \n",
    "if weather == \"Sunny\":\n",
    "    print(\"I will play cricket outside\") #If the weather would have been sunny it would have printed this output\n",
    "elif weather == \"rainy\":\n",
    "    print(\"I will play football outside\") #Because the weather is rainy, it will print this out put\n",
    "else:\n",
    "    print(\"I will watch TV at home\")   #If the weather would have been something else it would have printed this output\n",
    "\n"
   ]
  },
  {
   "cell_type": "code",
   "execution_count": 35,
   "id": "7892db6c-f0d7-4995-876a-acc733112b87",
   "metadata": {},
   "outputs": [
    {
     "name": "stdin",
     "output_type": "stream",
     "text": [
      "Enter a number 500\n"
     ]
    },
    {
     "name": "stdout",
     "output_type": "stream",
     "text": [
      "The number is greater than 100\n"
     ]
    }
   ],
   "source": [
    "a = (int(input(\"Enter a number\")))\n",
    "if a >= 100:\n",
    "        print(\"The number is greater than 100\") #Because the number is greater than 100, it has printed this output\n",
    "elif 0<=a<=100:\n",
    "        print(\"The number is greater than 0 and less than 100\") #If the number would have been smaller than 100, it would have printed this out put\n",
    "else:\n",
    "        print(\"The number is negative\") #otherwise if the number was negative, it would have printed this output"
   ]
  },
  {
   "cell_type": "raw",
   "id": "d8f54855-e412-489f-9f0a-feb23b0e9a6f",
   "metadata": {},
   "source": [
    "Q7.)  Describe the different types of loops in Python and their use cases with examples.\n",
    "\n",
    "A7.) In Python, there are two main types of loops: for loops and while loops. Each type serves different purposes and is used in various scenarios depending on the requirement of the code logic.\n",
    "\n"
   ]
  },
  {
   "cell_type": "markdown",
   "id": "907b7074-d341-4a65-9215-93a1f6531941",
   "metadata": {},
   "source": [
    "'For' loop"
   ]
  },
  {
   "cell_type": "code",
   "execution_count": 60,
   "id": "6baf7111-53cd-48fa-8846-c75fd15a9475",
   "metadata": {},
   "outputs": [
    {
     "name": "stdout",
     "output_type": "stream",
     "text": [
      "1\n",
      "2\n",
      "3\n",
      "4\n",
      "5\n"
     ]
    }
   ],
   "source": [
    "#The for loop in Python is used to iterate over a sequence (such as a list, tuple, string, or range) or other iterable objects. It is best suited when you know in advance how many times you want to execute a statement or a block of statements.\n",
    "\n",
    "#Synthax:\n",
    "#for variable in sequence:\n",
    "    # Block of code\n",
    "\n",
    "#Use Cases and Examples\n",
    "#Iterating Over a List:\n",
    "numbers = [1,2,3,4,5]\n",
    "for num in numbers:\n",
    "    print(num)"
   ]
  },
  {
   "cell_type": "markdown",
   "id": "39c0278d-ce46-4f02-a06a-7f0b9c7c223e",
   "metadata": {},
   "source": [
    "'while' Loop"
   ]
  },
  {
   "cell_type": "code",
   "execution_count": 55,
   "id": "df6bf45a-90bb-481a-a90e-d4c0685c738d",
   "metadata": {},
   "outputs": [
    {
     "name": "stdout",
     "output_type": "stream",
     "text": [
      "J\n",
      "o\n",
      "h\n",
      "n\n",
      " \n",
      "M\n",
      "a\n",
      "x\n"
     ]
    }
   ],
   "source": [
    "#Iterating Over a String:\n",
    "name = \"John Max\"\n",
    "for i in name:\n",
    "    print(i)\n"
   ]
  },
  {
   "cell_type": "code",
   "execution_count": 59,
   "id": "345e9748-5b60-4758-a476-2437e824143e",
   "metadata": {},
   "outputs": [
    {
     "name": "stdout",
     "output_type": "stream",
     "text": [
      "0\n",
      "1\n",
      "2\n",
      "3\n",
      "4\n",
      "5\n",
      "6\n",
      "7\n",
      "8\n",
      "9\n"
     ]
    }
   ],
   "source": [
    "#Using range():\n",
    "for a in range(10):\n",
    "    print(a)\n"
   ]
  },
  {
   "cell_type": "code",
   "execution_count": 58,
   "id": "bc1a5e09-69c5-4e24-b643-cc8be2befda9",
   "metadata": {},
   "outputs": [
    {
     "name": "stdout",
     "output_type": "stream",
     "text": [
      "0\n",
      "1\n",
      "2\n",
      "3\n",
      "4\n"
     ]
    }
   ],
   "source": [
    "#The while loop in Python repeatedly executes a block of code as long as a given condition is true.\n",
    "#It is best suited when the number of iterations is not known beforehand and the loop should continue until a particular condition is met\n",
    "\n",
    "#Syntax\n",
    "#while condition:\n",
    "    # Block of code\n",
    "\n",
    "#Use Cases and Examples\n",
    "#Basic while Loop:\n",
    "count = 0\n",
    "while count <5:\n",
    "    print(count)\n",
    "    count = count + 1\n",
    "    \n",
    "\n"
   ]
  },
  {
   "cell_type": "code",
   "execution_count": 57,
   "id": "0bc5a638-d1ea-4332-99a2-1e81888dbff9",
   "metadata": {},
   "outputs": [
    {
     "name": "stdout",
     "output_type": "stream",
     "text": [
      "1\n",
      "2\n",
      "3\n",
      "4\n",
      "5\n",
      "6\n",
      "Code finished\n"
     ]
    }
   ],
   "source": [
    "#Use Cases and Examples\n",
    "i = 7\n",
    "n = 1\n",
    "while n < i:\n",
    "    print(n)\n",
    "    n = n + 1\n",
    "else:\n",
    "    print(\"Code finished\")"
   ]
  },
  {
   "cell_type": "code",
   "execution_count": null,
   "id": "85af0030-a8e8-4b87-ada8-152badaba5e6",
   "metadata": {},
   "outputs": [],
   "source": []
  }
 ],
 "metadata": {
  "kernelspec": {
   "display_name": "Python 3 (ipykernel)",
   "language": "python",
   "name": "python3"
  },
  "language_info": {
   "codemirror_mode": {
    "name": "ipython",
    "version": 3
   },
   "file_extension": ".py",
   "mimetype": "text/x-python",
   "name": "python",
   "nbconvert_exporter": "python",
   "pygments_lexer": "ipython3",
   "version": "3.10.8"
  }
 },
 "nbformat": 4,
 "nbformat_minor": 5
}
